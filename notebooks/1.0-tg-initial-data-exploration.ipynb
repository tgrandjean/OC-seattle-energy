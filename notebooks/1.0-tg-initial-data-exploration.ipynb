{
 "cells": [
  {
   "cell_type": "markdown",
   "metadata": {},
   "source": [
    "Anticipez les besoins en consommation électrique de bâtiments\n",
    "=============================================================\n",
    "\n",
    "![logo-seattle](../reports/figures/logo-seattle.png)\n",
    "\n",
    "\n",
    "Explication des variables:\n",
    "[City of seattle](https://data.seattle.gov/dataset/2015-Building-Energy-Benchmarking/h7rm-fz6m)"
   ]
  },
  {
   "cell_type": "markdown",
   "metadata": {},
   "source": [
    "## Importation des librairies"
   ]
  },
  {
   "cell_type": "code",
   "execution_count": 1,
   "metadata": {},
   "outputs": [],
   "source": [
    "import os\n",
    "import re\n",
    "\n",
    "import numpy as np\n",
    "import pandas as pd\n",
    "import folium\n",
    "from folium.plugins import FastMarkerCluster\n",
    "from IPython.display import display\n",
    "import ipywidgets as widgets\n",
    "from ipywidgets import interact\n",
    "\n",
    "from src.features.univar import UnivariateAnalysis\n",
    "from src.features.bivar import BivariateAnalysis\n"
   ]
  },
  {
   "cell_type": "markdown",
   "metadata": {},
   "source": [
    "## Chargement des données"
   ]
  },
  {
   "cell_type": "code",
   "execution_count": 2,
   "metadata": {},
   "outputs": [],
   "source": [
    "data = dict()\n",
    "data_dir = os.path.abspath('../data/raw')\n",
    "for file in os.listdir(data_dir):\n",
    "    if file.endswith('.csv'):\n",
    "        key = file.split('.')[0]\n",
    "        data[key] = pd.read_csv(os.path.join(data_dir, file))"
   ]
  },
  {
   "cell_type": "code",
   "execution_count": 3,
   "metadata": {},
   "outputs": [],
   "source": [
    "_2015 = '2015-building-energy-benchmarking'\n",
    "_2016 = '2016-building-energy-benchmarking'"
   ]
  },
  {
   "cell_type": "code",
   "execution_count": 4,
   "metadata": {},
   "outputs": [
    {
     "name": "stdout",
     "output_type": "stream",
     "text": [
      "{'Address', 'GHGEmissionsIntensity', 'City', 'State', 'Comments', 'Longitude', 'Latitude', 'ZipCode', 'TotalGHGEmissions'}\n"
     ]
    }
   ],
   "source": [
    "col_2015 = data[_2015].columns.values.tolist()\n",
    "col_2016 = data[_2016].columns.values.tolist()\n",
    "print(set(col_2016) - set(col_2015))"
   ]
  },
  {
   "cell_type": "code",
   "execution_count": 5,
   "metadata": {},
   "outputs": [],
   "source": [
    "to_drop = [\n",
    "            'Zip Codes',\n",
    "            'City Council Districts',\n",
    "            'SPD Beats',\n",
    "            '2010 Census Tracts',\n",
    "            'Seattle Police Department Micro Community Policing Plan Areas'\n",
    "           ]"
   ]
  },
  {
   "cell_type": "code",
   "execution_count": 6,
   "metadata": {},
   "outputs": [],
   "source": [
    "data[_2015].drop(to_drop, axis=1, inplace=True)\n",
    "columns = {'GHGEmissions(MetricTonsCO2e)': 'TotalGHGEmissions',\n",
    "           'GHGEmissionsIntensity(kgCO2e/ft2)': 'GHGEmissionsIntensity',\n",
    "           'Comment': 'Comments'}\n",
    "data[_2015].rename(columns=columns, inplace=True)"
   ]
  },
  {
   "cell_type": "code",
   "execution_count": 7,
   "metadata": {},
   "outputs": [],
   "source": [
    "location = data[_2015]['Location']\n",
    "data[_2015]['Location'] = location.apply(eval)"
   ]
  },
  {
   "cell_type": "code",
   "execution_count": 8,
   "metadata": {},
   "outputs": [],
   "source": [
    "data[_2015]['Latitude'] = location.apply(lambda x: float(x['latitude']))\n",
    "data[_2015]['Longitude'] = location.apply(lambda x: float(x['longitude']))"
   ]
  },
  {
   "cell_type": "code",
   "execution_count": 9,
   "metadata": {},
   "outputs": [],
   "source": [
    "address_2015 = data[_2015]['Location'].apply(lambda x: x['human_address'])\n",
    "address_2015 = address_2015.map(eval)\n",
    "for field in ['Address', 'State', 'City']:\n",
    "    data[_2015][field] = address_2015.apply(lambda x: x[field.lower()])\n",
    "data[_2015]['ZipCode'] = address_2015.apply(lambda x: x['zip'])"
   ]
  },
  {
   "cell_type": "code",
   "execution_count": 10,
   "metadata": {},
   "outputs": [
    {
     "name": "stdout",
     "output_type": "stream",
     "text": [
      "set()\n",
      "{'OtherFuelUse(kBtu)', 'Location'}\n"
     ]
    }
   ],
   "source": [
    "col_2015 = data[_2015].columns.values.tolist()\n",
    "col_2016 = data[_2016].columns.values.tolist()\n",
    "print(set(col_2016) - set(col_2015))\n",
    "print(set(col_2015) - set(col_2016))"
   ]
  },
  {
   "cell_type": "code",
   "execution_count": 11,
   "metadata": {},
   "outputs": [],
   "source": [
    "data = pd.concat(data, sort=False)"
   ]
  },
  {
   "cell_type": "code",
   "execution_count": 12,
   "metadata": {},
   "outputs": [],
   "source": [
    "data.rename({\"2015-building-energy-benchmarking\": 2015,\n",
    "             \"2016-building-energy-benchmarking\": 2016}, inplace=True)"
   ]
  },
  {
   "cell_type": "code",
   "execution_count": 13,
   "metadata": {},
   "outputs": [],
   "source": [
    "data.drop(['Location', 'DataYear'], axis=1, inplace=True)"
   ]
  },
  {
   "cell_type": "code",
   "execution_count": 14,
   "metadata": {},
   "outputs": [],
   "source": [
    "\n",
    "def strip_all_string(x):\n",
    "    if type(x) == str:\n",
    "        return x.strip()\n",
    "    else:\n",
    "        return x\n",
    "\n",
    "\n",
    "for col in data.columns:\n",
    "    data[col] = data[col].apply(strip_all_string)"
   ]
  },
  {
   "cell_type": "markdown",
   "metadata": {},
   "source": [
    "### Correction des types de données"
   ]
  },
  {
   "cell_type": "code",
   "execution_count": 15,
   "metadata": {},
   "outputs": [],
   "source": [
    "categorical_fields = ['BuildingType', 'PrimaryPropertyType', 'Neighborhood',\n",
    "                      'LargestPropertyUseType', 'SecondLargestPropertyUseType',\n",
    "                      'ThirdLargestPropertyUseType']\n",
    "for col in categorical_fields:\n",
    "    data[col] = data[col].astype('category')"
   ]
  },
  {
   "cell_type": "code",
   "execution_count": 16,
   "metadata": {},
   "outputs": [
    {
     "name": "stdout",
     "output_type": "stream",
     "text": [
      "col : OSEBuildingID dtype : int64\n",
      "col : BuildingType dtype : category\n",
      "col : PrimaryPropertyType dtype : category\n",
      "col : PropertyName dtype : object\n",
      "col : TaxParcelIdentificationNumber dtype : object\n",
      "col : CouncilDistrictCode dtype : int64\n",
      "col : Neighborhood dtype : category\n",
      "col : YearBuilt dtype : int64\n",
      "col : NumberofBuildings dtype : float64\n",
      "col : NumberofFloors dtype : float64\n",
      "col : PropertyGFATotal dtype : int64\n",
      "col : PropertyGFAParking dtype : int64\n",
      "col : PropertyGFABuilding(s) dtype : int64\n",
      "col : ListOfAllPropertyUseTypes dtype : object\n",
      "col : LargestPropertyUseType dtype : category\n",
      "col : LargestPropertyUseTypeGFA dtype : float64\n",
      "col : SecondLargestPropertyUseType dtype : category\n",
      "col : SecondLargestPropertyUseTypeGFA dtype : float64\n",
      "col : ThirdLargestPropertyUseType dtype : category\n",
      "col : ThirdLargestPropertyUseTypeGFA dtype : float64\n",
      "col : YearsENERGYSTARCertified dtype : object\n",
      "col : ENERGYSTARScore dtype : float64\n",
      "col : SiteEUI(kBtu/sf) dtype : float64\n",
      "col : SiteEUIWN(kBtu/sf) dtype : float64\n",
      "col : SourceEUI(kBtu/sf) dtype : float64\n",
      "col : SourceEUIWN(kBtu/sf) dtype : float64\n",
      "col : SiteEnergyUse(kBtu) dtype : float64\n",
      "col : SiteEnergyUseWN(kBtu) dtype : float64\n",
      "col : SteamUse(kBtu) dtype : float64\n",
      "col : Electricity(kWh) dtype : float64\n",
      "col : Electricity(kBtu) dtype : float64\n",
      "col : NaturalGas(therms) dtype : float64\n",
      "col : NaturalGas(kBtu) dtype : float64\n",
      "col : OtherFuelUse(kBtu) dtype : float64\n",
      "col : TotalGHGEmissions dtype : float64\n",
      "col : GHGEmissionsIntensity dtype : float64\n",
      "col : DefaultData dtype : object\n",
      "col : Comments dtype : object\n",
      "col : ComplianceStatus dtype : object\n",
      "col : Outlier dtype : object\n",
      "col : Latitude dtype : float64\n",
      "col : Longitude dtype : float64\n",
      "col : Address dtype : object\n",
      "col : State dtype : object\n",
      "col : City dtype : object\n",
      "col : ZipCode dtype : object\n"
     ]
    }
   ],
   "source": [
    "for col in data.columns:\n",
    "    print(f\"col : {col} dtype : {data[col].dtype}\")"
   ]
  },
  {
   "cell_type": "code",
   "execution_count": 17,
   "metadata": {},
   "outputs": [
    {
     "data": {
      "text/plain": [
       "{'OSEBuildingID': 6716,\n",
       " 'BuildingType': 6716,\n",
       " 'PrimaryPropertyType': 6716,\n",
       " 'PropertyName': 6716,\n",
       " 'TaxParcelIdentificationNumber': 6714,\n",
       " 'CouncilDistrictCode': 6716,\n",
       " 'Neighborhood': 6716,\n",
       " 'YearBuilt': 6716,\n",
       " 'NumberofBuildings': 6708,\n",
       " 'NumberofFloors': 6708,\n",
       " 'PropertyGFATotal': 6716,\n",
       " 'PropertyGFAParking': 6716,\n",
       " 'PropertyGFABuilding(s)': 6716,\n",
       " 'ListOfAllPropertyUseTypes': 6580,\n",
       " 'LargestPropertyUseType': 6560,\n",
       " 'LargestPropertyUseTypeGFA': 6560,\n",
       " 'SecondLargestPropertyUseType': 3238,\n",
       " 'SecondLargestPropertyUseTypeGFA': 3238,\n",
       " 'ThirdLargestPropertyUseType': 1156,\n",
       " 'ThirdLargestPropertyUseTypeGFA': 1156,\n",
       " 'YearsENERGYSTARCertified': 229,\n",
       " 'ENERGYSTARScore': 5093,\n",
       " 'SiteEUI(kBtu/sf)': 6699,\n",
       " 'SiteEUIWN(kBtu/sf)': 6700,\n",
       " 'SourceEUI(kBtu/sf)': 6697,\n",
       " 'SourceEUIWN(kBtu/sf)': 6697,\n",
       " 'SiteEnergyUse(kBtu)': 6701,\n",
       " 'SiteEnergyUseWN(kBtu)': 6700,\n",
       " 'SteamUse(kBtu)': 6697,\n",
       " 'Electricity(kWh)': 6697,\n",
       " 'Electricity(kBtu)': 6697,\n",
       " 'NaturalGas(therms)': 6697,\n",
       " 'NaturalGas(kBtu)': 6697,\n",
       " 'OtherFuelUse(kBtu)': 3330,\n",
       " 'TotalGHGEmissions': 6697,\n",
       " 'GHGEmissionsIntensity': 6697,\n",
       " 'DefaultData': 6715,\n",
       " 'Comments': 13,\n",
       " 'ComplianceStatus': 6716,\n",
       " 'Outlier': 116,\n",
       " 'Latitude': 6716,\n",
       " 'Longitude': 6716,\n",
       " 'Address': 6716,\n",
       " 'State': 6716,\n",
       " 'City': 6716,\n",
       " 'ZipCode': 6700}"
      ]
     },
     "execution_count": 17,
     "metadata": {},
     "output_type": "execute_result"
    }
   ],
   "source": [
    "data.count(axis=0).to_dict()"
   ]
  },
  {
   "cell_type": "markdown",
   "metadata": {},
   "source": [
    "### Localisation des bâtiments\n",
    "\n",
    "On ne regarde que pour l'année 2016 (En principe les bâtiments contenus dans le set 2015 sont repris dans celui de 2016)"
   ]
  },
  {
   "cell_type": "code",
   "execution_count": 18,
   "metadata": {},
   "outputs": [
    {
     "data": {
      "text/plain": [
       "array([[  47.61219025, -122.33799744],\n",
       "       [  47.61310583, -122.33335756],\n",
       "       [  47.61334897, -122.33769944],\n",
       "       ...,\n",
       "       [  47.61649845, -122.33770787],\n",
       "       [  47.68396954, -122.2874088 ],\n",
       "       [  47.68396954, -122.2874088 ]])"
      ]
     },
     "execution_count": 18,
     "metadata": {},
     "output_type": "execute_result"
    }
   ],
   "source": [
    "data.loc[2015][['Latitude', 'Longitude']].values"
   ]
  },
  {
   "cell_type": "code",
   "execution_count": 19,
   "metadata": {},
   "outputs": [
    {
     "data": {
      "application/vnd.jupyter.widget-view+json": {
       "model_id": "08a0c0751ba8413daef00419e8f41524",
       "version_major": 2,
       "version_minor": 0
      },
      "text/plain": [
       "interactive(children=(Dropdown(description='year', options=(2015, 2016), value=2015), Dropdown(description='us…"
      ]
     },
     "metadata": {},
     "output_type": "display_data"
    }
   ],
   "source": [
    "year_widget = widgets.Dropdown(options=[2015, 2016])\n",
    "usage_type = data['LargestPropertyUseType'].sort_values()\n",
    "usage_type = usage_type.drop_duplicates().tolist()\n",
    "usage_type.insert(0, 'ALL')\n",
    "usage_type.remove(np.nan)\n",
    "usage_widget = widgets.Dropdown(option=usage_type)\n",
    "\n",
    "\n",
    "@interact\n",
    "def make_map(year=year_widget, usage=usage_type):\n",
    "    location = data.loc[year][['Latitude', 'Longitude']].mean(axis=0).values\n",
    "    data_map = data.loc[year][['Latitude',\n",
    "                               'Longitude',\n",
    "                               'LargestPropertyUseType']]\n",
    "    if usage != 'ALL':\n",
    "        data_map = data_map[data_map['LargestPropertyUseType'] == usage]\n",
    "    m = folium.Map(location=location,\n",
    "                   tiles='cartodbpositron',\n",
    "                   zoom_start=11)\n",
    "\n",
    "    mc = FastMarkerCluster(data_map)\n",
    "    mc.add_to(m)\n",
    "\n",
    "    display(m)"
   ]
  },
  {
   "cell_type": "markdown",
   "metadata": {},
   "source": [
    "## Analyses univariées"
   ]
  },
  {
   "cell_type": "code",
   "execution_count": 20,
   "metadata": {},
   "outputs": [
    {
     "data": {
      "application/vnd.jupyter.widget-view+json": {
       "model_id": "3307df9528634f899305f8db89f80ba6",
       "version_major": 2,
       "version_minor": 0
      },
      "text/plain": [
       "interactive(children=(Dropdown(description='var', options=('OSEBuildingID -- (int64)', 'BuildingType -- (categ…"
      ]
     },
     "metadata": {},
     "output_type": "display_data"
    }
   ],
   "source": [
    "data.columns = data.columns.map(lambda x: x.replace('(', '_'))\n",
    "data.columns = data.columns.map(lambda x: x.replace(')', ''))\n",
    "data.columns = data.columns.map(lambda x: x.replace('/', '_'))\n",
    "\n",
    "dtypes = data.columns.map(lambda x: data[x].dtype.name)\n",
    "opt = [f'{x} -- ({y})' for x, y in zip(data.columns.values.tolist(), dtypes)]\n",
    "variable_widget = widgets.Dropdown(options=opt)\n",
    "\n",
    "\n",
    "@interact\n",
    "def univariate_analysis(var=variable_widget):\n",
    "    univar = UnivariateAnalysis(data)\n",
    "    field, dtype = map(str.strip, var.split('--'))\n",
    "    dtype = re.sub(r'[\\(\\)]', '', dtype)\n",
    "    if dtype not in ['float64', 'int64']:\n",
    "        raise NotImplementedError\n",
    "    univar.make_analysis(field)"
   ]
  },
  {
   "cell_type": "markdown",
   "metadata": {},
   "source": [
    "## Analyses bivariées"
   ]
  },
  {
   "cell_type": "code",
   "execution_count": 23,
   "metadata": {},
   "outputs": [
    {
     "data": {
      "application/vnd.jupyter.widget-view+json": {
       "model_id": "bf12e5aa1c9a4d5bbc3b94238934a344",
       "version_major": 2,
       "version_minor": 0
      },
      "text/plain": [
       "interactive(children=(Dropdown(description='outcome_variable', options=('NumberofBuildings', 'NumberofFloors',…"
      ]
     },
     "metadata": {},
     "output_type": "display_data"
    }
   ],
   "source": [
    "\n",
    "dtypes = list(map(lambda x: data[x].dtype.name, data.columns))\n",
    "names_dtypes = zip(data.columns.values.tolist(), dtypes)\n",
    "names_dtypes = [(x, y) for x, y in names_dtypes]\n",
    "\n",
    "opt_1 = [x for x, y in names_dtypes if y in ['float64', ]]\n",
    "opt_2 = [x for x, y in names_dtypes if y == 'category']\n",
    "outcome_variable = widgets.Dropdown(options=opt_1)\n",
    "group = widgets.Dropdown(options=opt_2)\n",
    "\n",
    "\n",
    "@interact\n",
    "def anova(outcome_variable=outcome_variable, group=group):\n",
    "    bivar = BivariateAnalysis(data)\n",
    "    bivar.anova(outcome_variable=outcome_variable,\n",
    "                group=group,\n",
    "                orient='h',\n",
    "                figsize=(12, 12),\n",
    "                label_rotation=0)"
   ]
  },
  {
   "cell_type": "markdown",
   "metadata": {},
   "source": [
    "## Check point"
   ]
  },
  {
   "cell_type": "code",
   "execution_count": 22,
   "metadata": {},
   "outputs": [],
   "source": [
    "data.to_pickle('../data/interim/full_data.pickle')"
   ]
  }
 ],
 "metadata": {
  "kernelspec": {
   "display_name": "seattle_energy",
   "language": "python",
   "name": "seattle_energy"
  },
  "language_info": {
   "codemirror_mode": {
    "name": "ipython",
    "version": 3
   },
   "file_extension": ".py",
   "mimetype": "text/x-python",
   "name": "python",
   "nbconvert_exporter": "python",
   "pygments_lexer": "ipython3",
   "version": "3.6.9"
  },
  "toc-autonumbering": true,
  "toc-showmarkdowntxt": false,
  "toc-showtags": false
 },
 "nbformat": 4,
 "nbformat_minor": 4
}
