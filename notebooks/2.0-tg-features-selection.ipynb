{
 "cells": [
  {
   "cell_type": "markdown",
   "metadata": {},
   "source": [
    "Anticipez les besoins en consommation électrique de bâtiments\n",
    "=============================================================\n",
    "\n",
    "![logo-seattle](https://www.seattle.gov/Documents/Departments/Arts/Downloads/Logo/Seattle_logo_landscape_blue-black.png)\n",
    "\n",
    "\n",
    "Explication des variables:\n",
    "[City of seattle](https://data.seattle.gov/dataset/2015-Building-Energy-Benchmarking/h7rm-fz6m)"
   ]
  },
  {
   "cell_type": "code",
   "execution_count": null,
   "metadata": {},
   "outputs": [],
   "source": [
    "import numpy as np\n",
    "import pandas as pd\n",
    "\n",
    "import matplotlib.pyplot as plt\n",
    "import plotly.express as px\n",
    "import seaborn as sns\n",
    "from sklearn import preprocessing\n",
    "from sklearn import linear_model\n",
    "from sklearn import metrics\n",
    "from sklearn.model_selection import train_test_split\n",
    "from sklearn import decomposition\n",
    "\n",
    "from src.utils.bivar import BivariateAnalysis\n",
    "\n",
    "sns.set()"
   ]
  },
  {
   "cell_type": "code",
   "execution_count": null,
   "metadata": {},
   "outputs": [],
   "source": [
    "data = pd.read_pickle('../data/interim/full_data.pickle')"
   ]
  },
  {
   "cell_type": "code",
   "execution_count": null,
   "metadata": {},
   "outputs": [],
   "source": [
    "data.columns"
   ]
  },
  {
   "cell_type": "markdown",
   "metadata": {},
   "source": [
    "Variable à prédire (targets)\n",
    "\n",
    "   * SiteEnergyUse/WN (wether normalized?)\n",
    "   * TotalGHGEmissions\n",
    "\n",
    "Variables sélectionnées comme entrée du modèle\n",
    "    \n",
    "   * Surface du bâtiment\n",
    "   * Premiere utilisation du bâtiment\n",
    "   * Surface destinee au premier usage du batiment\n",
    "    "
   ]
  },
  {
   "cell_type": "markdown",
   "metadata": {},
   "source": [
    "## Préparation des variables pour modélisation"
   ]
  },
  {
   "cell_type": "markdown",
   "metadata": {},
   "source": [
    "suppression des lignes dont la consomation est nulle"
   ]
  },
  {
   "cell_type": "code",
   "execution_count": null,
   "metadata": {},
   "outputs": [],
   "source": [
    "print(data.shape)\n",
    "data = data[data[\"SiteEnergyUseWN_kBtu\"] > 0]\n",
    "print(data.shape)"
   ]
  },
  {
   "cell_type": "markdown",
   "metadata": {},
   "source": [
    "On supprime également les lignes pour lesquelles on a pas l'usage principal du bâtiment"
   ]
  },
  {
   "cell_type": "code",
   "execution_count": null,
   "metadata": {},
   "outputs": [],
   "source": [
    "print(data.shape)\n",
    "data = data[data['LargestPropertyUseType'].notna()]"
   ]
  },
  {
   "cell_type": "markdown",
   "metadata": {},
   "source": [
    "On supprime les outliers (Ces derniers sont indiqués! :) <3 )"
   ]
  },
  {
   "cell_type": "code",
   "execution_count": null,
   "metadata": {},
   "outputs": [],
   "source": [
    "data = data[data['Outlier'].isna()]\n",
    "data.shape"
   ]
  },
  {
   "cell_type": "markdown",
   "metadata": {},
   "source": [
    "## Quelles sont les variables corrélées avec la cible?"
   ]
  },
  {
   "cell_type": "code",
   "execution_count": null,
   "metadata": {},
   "outputs": [],
   "source": [
    "bivar = BivariateAnalysis(data)\n",
    "bivar.anova('SiteEnergyUseWN_kBtu', 'LargestPropertyUseType', orient='h')"
   ]
  },
  {
   "cell_type": "code",
   "execution_count": null,
   "metadata": {},
   "outputs": [],
   "source": [
    "bivar.regression(['PropertyGFATotal', 'SiteEnergyUseWN_kBtu'])"
   ]
  },
  {
   "cell_type": "markdown",
   "metadata": {},
   "source": [
    "**Notes** : Passage en log pour les colonnes PropertyGFATotal et SiteEnergyUseWN_kBtu!"
   ]
  },
  {
   "cell_type": "code",
   "execution_count": null,
   "metadata": {},
   "outputs": [],
   "source": [
    "data['logPropertyGFATotal'] = data['PropertyGFATotal'].apply(np.log1p)\n",
    "data['logSiteEnergyUseWN_kBtu'] = data['SiteEnergyUseWN_kBtu'].apply(np.log1p)"
   ]
  },
  {
   "cell_type": "code",
   "execution_count": null,
   "metadata": {},
   "outputs": [],
   "source": [
    "bivar = BivariateAnalysis(data)\n",
    "bivar.regression(['logPropertyGFATotal', 'logSiteEnergyUseWN_kBtu'])\n"
   ]
  },
  {
   "cell_type": "markdown",
   "metadata": {},
   "source": [
    "Meilleure corrélation entre les logs des variables"
   ]
  },
  {
   "cell_type": "code",
   "execution_count": null,
   "metadata": {},
   "outputs": [],
   "source": [
    "fig = px.scatter(data, x='logPropertyGFATotal',\n",
    "                 y='logSiteEnergyUseWN_kBtu',\n",
    "                 hover_data=['PropertyName'],\n",
    "                 color='LargestPropertyUseType')\n",
    "fig.show()\n",
    "\n",
    "with open('test.html', 'w') as f:\n",
    "    f.write(fig.to_html())\n"
   ]
  },
  {
   "cell_type": "code",
   "execution_count": null,
   "metadata": {},
   "outputs": [],
   "source": [
    "plt.subplots(1, figsize=(6, 4))\n",
    "ax = sns.scatterplot(data=data, x='logPropertyGFATotal',\n",
    "                y='logSiteEnergyUseWN_kBtu',\n",
    "                hue='LargestPropertyUseType')\n",
    "ax.get_legend().set_visible(False)"
   ]
  },
  {
   "cell_type": "code",
   "execution_count": null,
   "metadata": {},
   "outputs": [],
   "source": [
    "data.to_pickle('../data/interim/full_dataV2.pickle')"
   ]
  },
  {
   "cell_type": "code",
   "execution_count": null,
   "metadata": {},
   "outputs": [],
   "source": [
    "data.head()"
   ]
  },
  {
   "cell_type": "code",
   "execution_count": null,
   "metadata": {},
   "outputs": [],
   "source": [
    "data"
   ]
  },
  {
   "cell_type": "markdown",
   "metadata": {},
   "source": [
    "### Update :"
   ]
  },
  {
   "cell_type": "markdown",
   "metadata": {},
   "source": [
    "Certaines sont sous-représentées et semblent poser problème pour la suite.\n"
   ]
  },
  {
   "cell_type": "code",
   "execution_count": null,
   "metadata": {},
   "outputs": [],
   "source": [
    "# Most available building \n",
    "mfh = data.loc[data['LargestPropertyUseType'] == 'Multifamily housing'].copy()"
   ]
  },
  {
   "cell_type": "code",
   "execution_count": null,
   "metadata": {},
   "outputs": [],
   "source": [
    "bivar = BivariateAnalysis(mfh)\n",
    "bivar.regression(['PropertyGFATotal', 'SiteEnergyUseWN_kBtu'])"
   ]
  },
  {
   "cell_type": "code",
   "execution_count": null,
   "metadata": {},
   "outputs": [],
   "source": [
    "mfh['PropertyGFATotal_inv'] = mfh['PropertyGFATotal'].apply(lambda x: 1 / x)\n",
    "mfh['SiteEnergyUseWN_kBtu_inv'] = mfh['SiteEnergyUseWN_kBtu'].apply(lambda x: 1 / x)"
   ]
  },
  {
   "cell_type": "code",
   "execution_count": null,
   "metadata": {},
   "outputs": [],
   "source": [
    "bivar = BivariateAnalysis(mfh)\n",
    "bivar.regression(['PropertyGFATotal_inv',\n",
    "                  'SiteEnergyUseWN_kBtu_inv'])"
   ]
  },
  {
   "cell_type": "code",
   "execution_count": null,
   "metadata": {},
   "outputs": [],
   "source": [
    "mfh.loc[:, 'logPropertyGFATotal'] = mfh['PropertyGFATotal'].apply(np.log10)\n",
    "mfh.loc[:, 'logSiteEnergyUseWN_kBtu'] = mfh['SiteEnergyUseWN_kBtu'].apply(np.log10)\n",
    "bivar.regression(['logPropertyGFATotal', 'logSiteEnergyUseWN_kBtu'])"
   ]
  },
  {
   "cell_type": "code",
   "execution_count": null,
   "metadata": {},
   "outputs": [],
   "source": [
    "sns.jointplot(x='logPropertyGFATotal', y='logSiteEnergyUseWN_kBtu', data=mfh)"
   ]
  },
  {
   "cell_type": "code",
   "execution_count": null,
   "metadata": {},
   "outputs": [],
   "source": [
    "reg = linear_model.LinearRegression()"
   ]
  },
  {
   "cell_type": "code",
   "execution_count": null,
   "metadata": {},
   "outputs": [],
   "source": [
    "reg.fit(mfh.loc[2015]['logPropertyGFATotal'].values.reshape(-1, 1),\n",
    "        mfh.loc[2015]['logSiteEnergyUseWN_kBtu'].values.reshape(-1, 1))"
   ]
  },
  {
   "cell_type": "code",
   "execution_count": null,
   "metadata": {},
   "outputs": [],
   "source": [
    "reg.score(mfh.loc[2016]['logPropertyGFATotal'].values.reshape(-1, 1),\n",
    "          mfh.loc[2016]['logSiteEnergyUseWN_kBtu'].values.reshape(-1, 1))"
   ]
  }
 ],
 "metadata": {
  "kernelspec": {
   "display_name": "seattle_energy",
   "language": "python",
   "name": "seattle_energy"
  },
  "language_info": {
   "codemirror_mode": {
    "name": "ipython",
    "version": 3
   },
   "file_extension": ".py",
   "mimetype": "text/x-python",
   "name": "python",
   "nbconvert_exporter": "python",
   "pygments_lexer": "ipython3",
   "version": "3.6.9"
  }
 },
 "nbformat": 4,
 "nbformat_minor": 4
}
