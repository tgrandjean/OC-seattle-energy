{
 "cells": [
  {
   "cell_type": "markdown",
   "metadata": {},
   "source": [
    "Anticipez les besoins en consommation électrique de bâtiments\n",
    "=============================================================\n",
    "\n",
    "![logo-seattle](../reports/figures/logo-seattle.png)\n",
    "\n",
    "\n",
    "Explication des variables:\n",
    "[City of seattle](https://data.seattle.gov/dataset/2015-Building-Energy-Benchmarking/h7rm-fz6m)"
   ]
  },
  {
   "cell_type": "code",
   "execution_count": null,
   "metadata": {},
   "outputs": [],
   "source": [
    "import numpy as np\n",
    "import pandas as pd\n",
    "from sklearn import preprocessing\n",
    "from sklearn import linear_model\n",
    "from sklearn import metrics\n",
    "from sklearn.model_selection import train_test_split\n",
    "\n",
    "from src.utils.univar import UnivariateAnalysis\n",
    "from src.utils.bivar import BivariateAnalysis\n"
   ]
  },
  {
   "cell_type": "code",
   "execution_count": null,
   "metadata": {},
   "outputs": [],
   "source": [
    "data = pd.read_pickle('../data/interim/full_data.pickle')"
   ]
  },
  {
   "cell_type": "code",
   "execution_count": null,
   "metadata": {},
   "outputs": [],
   "source": [
    "RANDOM_STATE = 5022020"
   ]
  },
  {
   "cell_type": "code",
   "execution_count": null,
   "metadata": {},
   "outputs": [],
   "source": [
    "data.columns"
   ]
  },
  {
   "cell_type": "markdown",
   "metadata": {},
   "source": [
    "Variable à prédire (target)\n",
    "\n",
    "    * SiteEnergyUse/WN (wether normalized?)\n",
    "    * TotalGHGEmissions\n",
    "\n",
    "Variables sélectionnées comme entrée du modèle\n",
    "    \n",
    "    * Surface du bâtiment\n",
    "    * Date de construction (derniers travaux)\n",
    "        ==>à transformer sous forme \"age du bâtiment\"\n",
    "    * Nombre de bâtiments\n",
    "    * Nombre d'étages\n",
    "    * Surface de parking\n",
    "    * Utilisation type du bâtiment\n",
    "    "
   ]
  },
  {
   "cell_type": "code",
   "execution_count": null,
   "metadata": {},
   "outputs": [],
   "source": [
    "data = data[data['SiteEnergyUse_kBtu'].notna()]\n",
    "data = data[data['TotalGHGEmissions'].notna()]"
   ]
  },
  {
   "cell_type": "code",
   "execution_count": null,
   "metadata": {},
   "outputs": [],
   "source": [
    "data['year'] = data.index.get_level_values('year')"
   ]
  },
  {
   "cell_type": "code",
   "execution_count": null,
   "metadata": {},
   "outputs": [],
   "source": [
    "data['BuildingAge'] = data['year'] - data['YearBuilt']"
   ]
  },
  {
   "cell_type": "code",
   "execution_count": null,
   "metadata": {},
   "outputs": [],
   "source": [
    "model_data = data[['PropertyGFATotal',\n",
    "                   'BuildingAge',\n",
    "                   'NumberofFloors',\n",
    "                   'LargestPropertyUseType',\n",
    "                   'LargestPropertyUseTypeGFA',\n",
    "                   'SecondLargestPropertyUseType',\n",
    "                   'SecondLargestPropertyUseTypeGFA',\n",
    "                   'ThirdLargestPropertyUseType',\n",
    "                   'ThirdLargestPropertyUseTypeGFA',\n",
    "                   # targets\n",
    "                   'SiteEnergyUse_kBtu',\n",
    "                   'TotalGHGEmissions']]"
   ]
  },
  {
   "cell_type": "code",
   "execution_count": null,
   "metadata": {},
   "outputs": [],
   "source": [
    "model_data.loc[model_data['NumberofFloors'].isnull(), 'NumberofFloors'] = 0\n",
    "model_data.loc[model_data['LargestPropertyUseTypeGFA'].isnull(),\n",
    "               'LargestPropertyUseTypeGFA'] = 0\n",
    "model_data.loc[model_data['SecondLargestPropertyUseTypeGFA'].isnull(),\n",
    "               'SecondLargestPropertyUseTypeGFA'] = 0\n",
    "model_data.loc[model_data['ThirdLargestPropertyUseTypeGFA'].isnull(),\n",
    "               'ThirdLargestPropertyUseTypeGFA'] = 0"
   ]
  },
  {
   "cell_type": "code",
   "execution_count": null,
   "metadata": {},
   "outputs": [],
   "source": [
    "model_data.describe()"
   ]
  },
  {
   "cell_type": "code",
   "execution_count": null,
   "metadata": {},
   "outputs": [],
   "source": [
    "data_train, data_test = train_test_split(model_data)"
   ]
  },
  {
   "cell_type": "code",
   "execution_count": null,
   "metadata": {},
   "outputs": [],
   "source": [
    "data_train"
   ]
  },
  {
   "cell_type": "code",
   "execution_count": null,
   "metadata": {},
   "outputs": [],
   "source": [
    "data_test"
   ]
  },
  {
   "cell_type": "code",
   "execution_count": null,
   "metadata": {},
   "outputs": [],
   "source": [
    "predict_features = ['SiteEnergyUse_kBtu', 'TotalGHGEmissions']\n",
    "y = model_data[predict_features].copy()\n",
    "X = model_data[set(list(model_data.columns.values)) - set(predict_features)].copy()"
   ]
  },
  {
   "cell_type": "code",
   "execution_count": null,
   "metadata": {},
   "outputs": [],
   "source": [
    "y.describe()"
   ]
  },
  {
   "cell_type": "code",
   "execution_count": null,
   "metadata": {},
   "outputs": [],
   "source": [
    "y[y.notna()]"
   ]
  },
  {
   "cell_type": "markdown",
   "metadata": {},
   "source": [
    "## Préparation des données"
   ]
  },
  {
   "cell_type": "markdown",
   "metadata": {},
   "source": [
    "On normalise les données de sortie (scaling) les données sont \n",
    "comprises entre -1 et 1."
   ]
  },
  {
   "cell_type": "code",
   "execution_count": null,
   "metadata": {},
   "outputs": [],
   "source": [
    "std_scale = preprocessing.StandardScaler().fit(y.values)\n",
    "y_scaled = std_scale.transform(y)"
   ]
  },
  {
   "cell_type": "code",
   "execution_count": null,
   "metadata": {},
   "outputs": [],
   "source": [
    "y_scaled"
   ]
  },
  {
   "cell_type": "markdown",
   "metadata": {},
   "source": [
    "Pour les données de sortie on transforme les données catégorielles en donnée binaire et les données continues sont normalisées (scaling)"
   ]
  },
  {
   "cell_type": "code",
   "execution_count": null,
   "metadata": {},
   "outputs": [],
   "source": [
    "scalers = dict()\n",
    "for col in X.columns:\n",
    "    if X[col].dtype.name == 'category':\n",
    "        print(f'processing {col}: One Hot Encoding the categories')\n",
    "        X = pd.concat([X, pd.get_dummies(X[col], prefix=col, dummy_na=True)],\n",
    "                      axis=1)\n",
    "        X.drop(col, axis=1, inplace=True)\n",
    "    elif X[col].dtype.name in ('float64', 'int64'):\n",
    "        print(f'processing {col}: Scaling')\n",
    "        x = X[col].values.reshape(-1, 1)\n",
    "        scalers[col] = preprocessing.StandardScaler().fit(x)\n",
    "        X[col] = scalers[col].transform(x)"
   ]
  },
  {
   "cell_type": "code",
   "execution_count": null,
   "metadata": {},
   "outputs": [],
   "source": [
    "X"
   ]
  },
  {
   "cell_type": "code",
   "execution_count": null,
   "metadata": {},
   "outputs": [],
   "source": [
    "X_train, X_test, y_train, y_test = train_test_split(X, y_scaled, test_size=0.2,\n",
    "                                                    random_state=RANDOM_STATE)"
   ]
  },
  {
   "cell_type": "code",
   "execution_count": null,
   "metadata": {},
   "outputs": [],
   "source": [
    "X_train"
   ]
  },
  {
   "cell_type": "markdown",
   "metadata": {},
   "source": [
    "### Regression lineaire"
   ]
  },
  {
   "cell_type": "code",
   "execution_count": null,
   "metadata": {},
   "outputs": [],
   "source": [
    "lr = linear_model.LinearRegression()\n",
    "lr.fit(X_train, y_train)"
   ]
  },
  {
   "cell_type": "code",
   "execution_count": null,
   "metadata": {},
   "outputs": [],
   "source": [
    "baseline_error = metrics.mean_squared_error(y_test, lr.predict(X_test))\n",
    "print(\"Erreur quadratique moyenne : %5f\" % baseline_error)\n",
    "r2_score = metrics.r2_score(y_test, lr.predict(X_test))\n",
    "print(\"R² score : %5f\" % r2_score)\n",
    "explained_var = metrics.explained_variance_score(y_test, lr.predict(X_test))\n",
    "print(\"variance expliquée : %5f\" % explained_var)\n"
   ]
  },
  {
   "cell_type": "code",
   "execution_count": null,
   "metadata": {},
   "outputs": [],
   "source": [
    "metrics.mean_absolute_error(y_test, lr.predict(X_test))"
   ]
  }
 ],
 "metadata": {
  "kernelspec": {
   "display_name": "seattle_energy",
   "language": "python",
   "name": "seattle_energy"
  },
  "language_info": {
   "codemirror_mode": {
    "name": "ipython",
    "version": 3
   },
   "file_extension": ".py",
   "mimetype": "text/x-python",
   "name": "python",
   "nbconvert_exporter": "python",
   "pygments_lexer": "ipython3",
   "version": "3.6.9"
  }
 },
 "nbformat": 4,
 "nbformat_minor": 4
}
