{
 "cells": [
  {
   "cell_type": "markdown",
   "metadata": {},
   "source": [
    "Anticipez les besoins en consommation électrique de bâtiments\n",
    "=============================================================\n",
    "\n",
    "![logo-seattle](../reports/figures/logo-seattle.png)\n",
    "\n",
    "\n",
    "Explication des variables:\n",
    "[City of seattle](https://data.seattle.gov/dataset/2015-Building-Energy-Benchmarking/h7rm-fz6m)"
   ]
  },
  {
   "cell_type": "markdown",
   "metadata": {},
   "source": [
    "## Importation des librairies"
   ]
  },
  {
   "cell_type": "code",
   "execution_count": null,
   "metadata": {},
   "outputs": [],
   "source": [
    "import os\n",
    "\n",
    "import numpy as np\n",
    "import pandas as pd\n",
    "# V2.3.0 (Bug in widget rendering in V2.4.0)\n",
    "from pandas_profiling import ProfileReport\n",
    "import folium\n",
    "from folium.plugins import FastMarkerCluster\n",
    "from IPython.display import display\n",
    "import ipywidgets as widgets\n",
    "from ipywidgets import interact\n",
    "\n",
    "from src.utils.univar import UnivariateAnalysis\n",
    "from src.utils.bivar import BivariateAnalysis\n"
   ]
  },
  {
   "cell_type": "markdown",
   "metadata": {},
   "source": [
    "## Chargement des données"
   ]
  },
  {
   "cell_type": "code",
   "execution_count": null,
   "metadata": {},
   "outputs": [],
   "source": [
    "data = dict()\n",
    "data_dir = os.path.abspath('../data/raw')\n",
    "for file in os.listdir(data_dir):\n",
    "    if file.endswith('.csv'):\n",
    "        key = file.split('.')[0]\n",
    "        data[key] = pd.read_csv(os.path.join(data_dir, file))"
   ]
  },
  {
   "cell_type": "code",
   "execution_count": null,
   "metadata": {},
   "outputs": [],
   "source": [
    "_2015 = '2015-building-energy-benchmarking'\n",
    "_2016 = '2016-building-energy-benchmarking'"
   ]
  },
  {
   "cell_type": "code",
   "execution_count": null,
   "metadata": {},
   "outputs": [],
   "source": [
    "col_2015 = data[_2015].columns.values.tolist()\n",
    "col_2016 = data[_2016].columns.values.tolist()\n",
    "print(set(col_2016) - set(col_2015))\n",
    "print(set(col_2015) - set(col_2016))"
   ]
  },
  {
   "cell_type": "code",
   "execution_count": null,
   "metadata": {},
   "outputs": [],
   "source": [
    "to_drop = [\n",
    "            'Zip Codes',\n",
    "            'City Council Districts',\n",
    "            'SPD Beats',\n",
    "            '2010 Census Tracts',\n",
    "            'Seattle Police Department Micro Community Policing Plan Areas'\n",
    "           ]"
   ]
  },
  {
   "cell_type": "code",
   "execution_count": null,
   "metadata": {},
   "outputs": [],
   "source": [
    "data[_2015].drop(to_drop, axis=1, inplace=True)\n",
    "columns = {'GHGEmissions(MetricTonsCO2e)': 'TotalGHGEmissions',\n",
    "           'GHGEmissionsIntensity(kgCO2e/ft2)': 'GHGEmissionsIntensity',\n",
    "           'Comment': 'Comments'}\n",
    "data[_2015].rename(columns=columns, inplace=True)"
   ]
  },
  {
   "cell_type": "code",
   "execution_count": null,
   "metadata": {},
   "outputs": [],
   "source": [
    "location = data[_2015]['Location']\n",
    "data[_2015]['Location'] = location.apply(eval)"
   ]
  },
  {
   "cell_type": "code",
   "execution_count": null,
   "metadata": {},
   "outputs": [],
   "source": [
    "data[_2015]['Latitude'] = location.apply(lambda x: float(x['latitude']))\n",
    "data[_2015]['Longitude'] = location.apply(lambda x: float(x['longitude']))"
   ]
  },
  {
   "cell_type": "code",
   "execution_count": null,
   "metadata": {},
   "outputs": [],
   "source": [
    "address_2015 = data[_2015]['Location'].apply(lambda x: x['human_address'])\n",
    "address_2015 = address_2015.map(eval)\n",
    "for field in ['Address', 'State', 'City']:\n",
    "    data[_2015][field] = address_2015.apply(lambda x: x[field.lower()])\n",
    "data[_2015]['ZipCode'] = address_2015.apply(lambda x: x['zip'])"
   ]
  },
  {
   "cell_type": "code",
   "execution_count": null,
   "metadata": {},
   "outputs": [],
   "source": [
    "col_2015 = data[_2015].columns.values.tolist()\n",
    "col_2016 = data[_2016].columns.values.tolist()\n",
    "print(set(col_2016) - set(col_2015))\n",
    "print(set(col_2015) - set(col_2016))"
   ]
  },
  {
   "cell_type": "code",
   "execution_count": null,
   "metadata": {},
   "outputs": [],
   "source": [
    "data = pd.concat(data, sort=False)"
   ]
  },
  {
   "cell_type": "code",
   "execution_count": null,
   "metadata": {},
   "outputs": [],
   "source": [
    "data.rename({\"2015-building-energy-benchmarking\": 2015,\n",
    "             \"2016-building-energy-benchmarking\": 2016}, inplace=True)"
   ]
  },
  {
   "cell_type": "code",
   "execution_count": null,
   "metadata": {},
   "outputs": [],
   "source": [
    "data.drop(['Location', 'DataYear'], axis=1, inplace=True)"
   ]
  },
  {
   "cell_type": "code",
   "execution_count": null,
   "metadata": {},
   "outputs": [],
   "source": [
    "\n",
    "def strip_all_string(x):\n",
    "    if type(x) == str:\n",
    "        return x.capitalize().strip()\n",
    "    else:\n",
    "        return x\n",
    "\n",
    "\n",
    "for col in data.columns:\n",
    "    data[col] = data[col].apply(strip_all_string)"
   ]
  },
  {
   "cell_type": "markdown",
   "metadata": {},
   "source": [
    "### Correction des types de données"
   ]
  },
  {
   "cell_type": "code",
   "execution_count": null,
   "metadata": {},
   "outputs": [],
   "source": [
    "categorical_fields = ['BuildingType', 'PrimaryPropertyType', 'Neighborhood',\n",
    "                      'LargestPropertyUseType', 'SecondLargestPropertyUseType',\n",
    "                      'ThirdLargestPropertyUseType']\n",
    "for col in categorical_fields:\n",
    "    data[col] = data[col].astype('category')"
   ]
  },
  {
   "cell_type": "code",
   "execution_count": null,
   "metadata": {},
   "outputs": [],
   "source": [
    "for col in data.columns:\n",
    "    print(f\"col : {col} dtype : {data[col].dtype}\")"
   ]
  },
  {
   "cell_type": "code",
   "execution_count": null,
   "metadata": {},
   "outputs": [],
   "source": [
    "data.dtypes.to_latex('../reports/latex-report/includes/variables.tex')"
   ]
  },
  {
   "cell_type": "code",
   "execution_count": null,
   "metadata": {},
   "outputs": [],
   "source": [
    "data['ZipCode'] = data['ZipCode'].map(float)"
   ]
  },
  {
   "cell_type": "code",
   "execution_count": null,
   "metadata": {},
   "outputs": [],
   "source": [
    "data.index.names = ['year', 'idx']"
   ]
  },
  {
   "cell_type": "code",
   "execution_count": null,
   "metadata": {},
   "outputs": [],
   "source": [
    "print(data.shape)"
   ]
  },
  {
   "cell_type": "markdown",
   "metadata": {},
   "source": [
    "### Localisation des bâtiments\n"
   ]
  },
  {
   "cell_type": "code",
   "execution_count": null,
   "metadata": {},
   "outputs": [],
   "source": [
    "year_widget = widgets.Dropdown(options=[2015, 2016])\n",
    "usage_type = data['LargestPropertyUseType'].sort_values()\n",
    "usage_type = usage_type.drop_duplicates().tolist()\n",
    "usage_type.insert(0, 'ALL')\n",
    "usage_type.remove(np.nan)\n",
    "usage_widget = widgets.Dropdown(option=usage_type)\n",
    "\n",
    "\n",
    "@interact\n",
    "def make_map(year=year_widget, usage=usage_type):\n",
    "    location = data.loc[year][['Latitude', 'Longitude']].mean(axis=0).values\n",
    "    data_map = data.loc[year][['Latitude',\n",
    "                               'Longitude',\n",
    "                               'LargestPropertyUseType']]\n",
    "    if usage != 'ALL':\n",
    "        data_map = data_map[data_map['LargestPropertyUseType'] == usage]\n",
    "    m = folium.Map(location=location,\n",
    "                   tiles='cartodbpositron',\n",
    "                   zoom_start=11)\n",
    "\n",
    "    mc = FastMarkerCluster(data_map)\n",
    "    mc.add_to(m)\n",
    "\n",
    "    display(m)"
   ]
  },
  {
   "cell_type": "markdown",
   "metadata": {},
   "source": [
    "## Analyses univariées"
   ]
  },
  {
   "cell_type": "code",
   "execution_count": null,
   "metadata": {},
   "outputs": [],
   "source": [
    "\n",
    "data.columns = data.columns.map(lambda x: x.replace('(', '_'))\n",
    "data.columns = data.columns.map(lambda x: x.replace(')', ''))\n",
    "data.columns = data.columns.map(lambda x: x.replace('/', '_'))\n",
    "\n",
    "dtypes = data.columns.map(lambda x: data[x].dtype.name)\n",
    "opt = ['BuildingType',\n",
    "       'PrimaryPropertyType',\n",
    "       'Neighborhood',\n",
    "       'YearBuilt',\n",
    "       'NumberofBuildings',\n",
    "       'NumberofFloors',\n",
    "       'PropertyGFATotal',\n",
    "       'PropertyGFAParking',\n",
    "       'PropertyGFABuilding_s',\n",
    "       'LargestPropertyUseType',\n",
    "       'SecondLargestPropertyUseType',\n",
    "       'ThirdLargestPropertyUseType',\n",
    "       'ENERGYSTARScore',\n",
    "       'LargestPropertyUseTypeGFA',\n",
    "       'SecondLargestPropertyUseTypeGFA',\n",
    "       'ThirdLargestPropertyUseTypeGFA',\n",
    "       'SiteEUI_kBtu_sf',\n",
    "       'SiteEUIWN_kBtu_sf',\n",
    "       'SiteEnergyUse_kBtu',\n",
    "       'SiteEnergyUseWN_kBtu',\n",
    "       'SourceEUI_kBtu_sf',\n",
    "       'SourceEUIWN_kBtu_sf',\n",
    "       'TotalGHGEmissions',\n",
    "       'GHGEmissionsIntensity',\n",
    "       'SteamUse_kBtu',\n",
    "       'Electricity_kBtu',\n",
    "       'NaturalGas_kBtu']\n",
    "variable_widget = widgets.Dropdown(options=opt)\n",
    "\n",
    "\n",
    "@interact\n",
    "def univariate_analysis(var=variable_widget):\n",
    "    univar = UnivariateAnalysis(data)\n",
    "    univar.make_analysis(var, orient='h', figsize=(8, 12))"
   ]
  },
  {
   "cell_type": "markdown",
   "metadata": {},
   "source": [
    "## Analyses bivariées"
   ]
  },
  {
   "cell_type": "markdown",
   "metadata": {},
   "source": [
    "### Catégoriel vs Continu"
   ]
  },
  {
   "cell_type": "code",
   "execution_count": null,
   "metadata": {},
   "outputs": [],
   "source": [
    "\n",
    "dtypes = list(map(lambda x: data[x].dtype.name, data.columns))\n",
    "names_dtypes = zip(data.columns.values.tolist(), dtypes)\n",
    "names_dtypes = [(x, y) for x, y in names_dtypes]\n",
    "\n",
    "opt_1 = [x for x, y in names_dtypes if y in ['float64', 'int64']]\n",
    "opt_2 = [x for x, y in names_dtypes if y == 'category']\n",
    "outcome_variable = widgets.Dropdown(options=opt_1)\n",
    "group = widgets.Dropdown(options=opt_2)\n",
    "years = widgets.Dropdown(options=['ALL', 2015, 2016])\n",
    "\n",
    "\n",
    "@interact\n",
    "def anova(outcome_variable=outcome_variable, group=group, year=years):\n",
    "    bivar = BivariateAnalysis(data)\n",
    "    if year != 'ALL':\n",
    "        bivar = BivariateAnalysis(data.loc[year])\n",
    "    bivar.anova(outcome_variable=outcome_variable,\n",
    "                group=group,\n",
    "                orient='h',\n",
    "                figsize=(10, 10),\n",
    "                label_rotation=0)"
   ]
  },
  {
   "cell_type": "markdown",
   "metadata": {},
   "source": [
    "### Catégoriel vs Catégoriel"
   ]
  },
  {
   "cell_type": "code",
   "execution_count": null,
   "metadata": {},
   "outputs": [],
   "source": [
    "\n",
    "dtypes = list(map(lambda x: data[x].dtype.name, data.columns))\n",
    "names_dtypes = zip(data.columns.values.tolist(), dtypes)\n",
    "names_dtypes = [(x, y) for x, y in names_dtypes]\n",
    "\n",
    "variables = [x for x, y in names_dtypes if y in ['category']]\n",
    "var_1 = widgets.Dropdown(options=variables)\n",
    "var_2 = widgets.Dropdown(options=variables)\n",
    "years_2 = widgets.Dropdown(options=['ALL', 2015, 2016])\n",
    "\n",
    "\n",
    "@interact\n",
    "def chi2_test(var_1=var_1, var_2=var_2, year=years_2):\n",
    "    variables = (var_1, var_2)\n",
    "    bivar = BivariateAnalysis(data)\n",
    "    if year != 'ALL':\n",
    "        bivar = BivariateAnalysis(data.loc[year])\n",
    "    bivar.chi_square_contingency(variables)"
   ]
  },
  {
   "cell_type": "markdown",
   "metadata": {},
   "source": [
    "### Continu vs Continu"
   ]
  },
  {
   "cell_type": "code",
   "execution_count": null,
   "metadata": {},
   "outputs": [],
   "source": [
    "\n",
    "dtypes = list(map(lambda x: data[x].dtype.name, data.columns))\n",
    "names_dtypes = zip(data.columns.values.tolist(), dtypes)\n",
    "names_dtypes = [(x, y) for x, y in names_dtypes]\n",
    "\n",
    "variables = [x for x, y in names_dtypes if y in ['int64', 'float64']]\n",
    "var_3 = widgets.Dropdown(options=variables)\n",
    "var_4 = widgets.Dropdown(options=variables)\n",
    "years_3 = widgets.Dropdown(options=['ALL', 2015, 2016])\n",
    "\n",
    "\n",
    "@interact\n",
    "def regression(x=var_3, y=var_4, year=years_3):\n",
    "    variables = (x, y)\n",
    "    bivar = BivariateAnalysis(data)\n",
    "    if year != 'ALL':\n",
    "        bivar = BivariateAnalysis(data.loc[year])\n",
    "    bivar.regression(variables=variables)"
   ]
  },
  {
   "cell_type": "markdown",
   "metadata": {},
   "source": [
    "## traitement des outliers"
   ]
  },
  {
   "cell_type": "markdown",
   "metadata": {},
   "source": [
    "## Check point"
   ]
  },
  {
   "cell_type": "code",
   "execution_count": null,
   "metadata": {},
   "outputs": [],
   "source": [
    "\n",
    "data.to_pickle('../data/interim/full_data.pickle')\n"
   ]
  }
 ],
 "metadata": {
  "kernelspec": {
   "display_name": "seattle_energy",
   "language": "python",
   "name": "seattle_energy"
  },
  "language_info": {
   "codemirror_mode": {
    "name": "ipython",
    "version": 3
   },
   "file_extension": ".py",
   "mimetype": "text/x-python",
   "name": "python",
   "nbconvert_exporter": "python",
   "pygments_lexer": "ipython3",
   "version": "3.6.9"
  },
  "toc-autonumbering": true,
  "toc-showmarkdowntxt": false,
  "toc-showtags": false
 },
 "nbformat": 4,
 "nbformat_minor": 4
}
