{
 "cells": [
  {
   "cell_type": "markdown",
   "metadata": {
    "slideshow": {
     "slide_type": "slide"
    }
   },
   "source": [
    "Anticipez les besoins en consommation électrique de bâtiments\n",
    "=============================================================\n",
    "\n",
    "![logo-seattle](https://www.seattle.gov/Documents/Departments/Arts/Downloads/Logo/Seattle_logo_landscape_blue-black.png)\n",
    "\n",
    "\n",
    "Explication des variables:\n",
    "[City of seattle](https://data.seattle.gov/dataset/2015-Building-Energy-Benchmarking/h7rm-fz6m)\n",
    "\n",
    "On cherche ici à déterminer quelle représentation de données utiliser pour le modèle.\n",
    "On peut soit utiliser les données brute (En sélectionant uniquement les colonnes adéquates) ou alors transformer\n",
    "les données sous un autre format (voir `src.features.transform_features.py`). "
   ]
  },
  {
   "cell_type": "code",
   "execution_count": null,
   "metadata": {
    "slideshow": {
     "slide_type": "slide"
    }
   },
   "outputs": [],
   "source": [
    "from tempfile import mkdtemp\n",
    "from shutil import rmtree\n",
    "\n",
    "import matplotlib\n",
    "import matplotlib.pyplot as plt\n",
    "import numpy as np\n",
    "import pandas as pd\n",
    "from sklearn.compose import ColumnTransformer, TransformedTargetRegressor\n",
    "from sklearn.impute import SimpleImputer\n",
    "from sklearn.linear_model import Lasso, LinearRegression, Ridge\n",
    "from sklearn.pipeline import Pipeline\n",
    "from sklearn.preprocessing import FunctionTransformer, OneHotEncoder, StandardScaler\n",
    "import seaborn as sns\n",
    "\n",
    "sns.set()\n",
    "sns.set_context(\"notebook\", font_scale=1.0)\n",
    "\n",
    "matplotlib.rcParams['figure.figsize'] = (10, 6)"
   ]
  },
  {
   "cell_type": "code",
   "execution_count": null,
   "metadata": {
    "slideshow": {
     "slide_type": "slide"
    }
   },
   "outputs": [],
   "source": [
    "data_raw = pd.read_pickle('../data/interim/full_dataV2.pickle')"
   ]
  },
  {
   "cell_type": "code",
   "execution_count": null,
   "metadata": {
    "slideshow": {
     "slide_type": "fragment"
    }
   },
   "outputs": [],
   "source": [
    "data_tr = pd.read_pickle('../data/processed/model_data.pickle')\n",
    "data_tr2 = pd.read_pickle('../data/processed/model_data_percent.pickle')"
   ]
  },
  {
   "cell_type": "markdown",
   "metadata": {
    "slideshow": {
     "slide_type": "slide"
    }
   },
   "source": [
    "## Baseline error"
   ]
  },
  {
   "cell_type": "markdown",
   "metadata": {
    "slideshow": {
     "slide_type": "fragment"
    }
   },
   "source": [
    "### Données d'origine"
   ]
  },
  {
   "cell_type": "code",
   "execution_count": null,
   "metadata": {
    "slideshow": {
     "slide_type": "slide"
    }
   },
   "outputs": [],
   "source": [
    "target = ['SiteEnergyUseWN_kBtu']\n",
    "inputs = ['PropertyGFATotal',\n",
    "          'LargestPropertyUseType', 'LargestPropertyUseTypeGFA',\n",
    "          'SecondLargestPropertyUseType', 'SecondLargestPropertyUseTypeGFA',\n",
    "          'ThirdLargestPropertyUseType', 'ThirdLargestPropertyUseTypeGFA',]"
   ]
  },
  {
   "cell_type": "code",
   "execution_count": null,
   "metadata": {
    "slideshow": {
     "slide_type": "subslide"
    }
   },
   "outputs": [],
   "source": [
    "categorical_features = [x for x in inputs if data_raw[x].dtype.name == 'category']\n",
    "\n",
    "# ensure categories in test/train set are the same\n",
    "uncommon_cat = list()\n",
    "for col in categorical_features:\n",
    "    diff_15_16 = list(set(data_raw.loc[2015][col].unique()) -\\\n",
    "                      set(data_raw.loc[2016][col].unique()))\n",
    "    print(diff_15_16)\n",
    "    diff_16_15 = list(set(data_raw.loc[2016][col].unique()) -\\\n",
    "                      set(data_raw.loc[2015][col].unique()))\n",
    "    print(diff_16_15)\n",
    "    uncommon_cat += diff_15_16 \n",
    "    uncommon_cat += diff_16_15\n",
    "uncommon_cat = list(dict.fromkeys(uncommon_cat))"
   ]
  },
  {
   "cell_type": "code",
   "execution_count": null,
   "metadata": {
    "slideshow": {
     "slide_type": "subslide"
    }
   },
   "outputs": [],
   "source": [
    "total = 0\n",
    "for col in categorical_features:\n",
    "    for cat in uncommon_cat:\n",
    "        total += data_raw[data_raw[col] == cat].shape[0]\n",
    "        data_raw.drop(data_raw[data_raw[col] == cat].index, axis=0, inplace=True)\n",
    "print('removed %i rows' % total)"
   ]
  },
  {
   "cell_type": "markdown",
   "metadata": {
    "slideshow": {
     "slide_type": "slide"
    }
   },
   "source": [
    "#### Preprocessing"
   ]
  },
  {
   "cell_type": "code",
   "execution_count": null,
   "metadata": {
    "slideshow": {
     "slide_type": "fragment"
    }
   },
   "outputs": [],
   "source": [
    "log_transform = FunctionTransformer(np.log1p, inverse_func=np.expm1)"
   ]
  },
  {
   "cell_type": "code",
   "execution_count": null,
   "metadata": {
    "slideshow": {
     "slide_type": "fragment"
    }
   },
   "outputs": [],
   "source": [
    "data_raw = data_raw.dropna(axis=0, subset=target)"
   ]
  },
  {
   "cell_type": "code",
   "execution_count": null,
   "metadata": {
    "slideshow": {
     "slide_type": "fragment"
    }
   },
   "outputs": [],
   "source": [
    "X = data_raw[inputs]\n",
    "y_train = data_raw[target].loc[2015].values.ravel()\n",
    "y_test = data_raw[target].loc[2016].values.ravel()"
   ]
  },
  {
   "cell_type": "code",
   "execution_count": null,
   "metadata": {
    "slideshow": {
     "slide_type": "slide"
    }
   },
   "outputs": [],
   "source": [
    "cache_dir = mkdtemp()\n",
    "\n",
    "numeric_features = [x for x in inputs if data_raw[x].dtype.name != 'category']\n",
    "\n",
    "num_transformer = Pipeline(memory=cache_dir, steps=[\n",
    "    ('imputer', SimpleImputer(strategy='constant', fill_value=0)),\n",
    "    ('log_transformer', log_transform),\n",
    "    ('scaler', StandardScaler())\n",
    "])\n",
    "\n",
    "categorical_transformer = Pipeline(memory=cache_dir, steps=[\n",
    "    ('inputer', SimpleImputer(strategy='constant', fill_value='')),\n",
    "    ('encoder', OneHotEncoder())\n",
    "])\n",
    "\n",
    "preprocessor = ColumnTransformer(\n",
    "        transformers=[\n",
    "            ('num', num_transformer, numeric_features),\n",
    "            ('cat', categorical_transformer, categorical_features)\n",
    "        ]\n",
    ")\n",
    "\n",
    "clf = Pipeline(\n",
    "    [('preprocessing', preprocessor),\n",
    "     ('regressor', TransformedTargetRegressor(LinearRegression(), \n",
    "                                              transformer=log_transform))]\n",
    ")"
   ]
  },
  {
   "cell_type": "markdown",
   "metadata": {
    "slideshow": {
     "slide_type": "slide"
    }
   },
   "source": [
    "#### Train"
   ]
  },
  {
   "cell_type": "code",
   "execution_count": null,
   "metadata": {
    "slideshow": {
     "slide_type": "fragment"
    }
   },
   "outputs": [],
   "source": [
    "clf.fit(X.loc[2015], y_train)"
   ]
  },
  {
   "cell_type": "code",
   "execution_count": null,
   "metadata": {
    "slideshow": {
     "slide_type": "slide"
    }
   },
   "outputs": [],
   "source": [
    "print(\"Score on training set : %5f\" % clf.score(X.loc[2015], y_train))\n",
    "print(\"Score on testing set : %5f\" % clf.score(X.loc[2016], y_test))"
   ]
  },
  {
   "cell_type": "code",
   "execution_count": null,
   "metadata": {
    "slideshow": {
     "slide_type": "subslide"
    }
   },
   "outputs": [],
   "source": [
    "sns.scatterplot(y_test, clf.predict(X.loc[2016]))"
   ]
  },
  {
   "cell_type": "code",
   "execution_count": null,
   "metadata": {
    "slideshow": {
     "slide_type": "subslide"
    }
   },
   "outputs": [],
   "source": [
    "test = pd.DataFrame({'y true' : y_test,\n",
    "                     'y pred' : clf.predict(X.loc[2016]).ravel(),\n",
    "                     'set': ['test' for x in range(X.loc[2016].shape[0])] })\n",
    "\n",
    "train = pd.DataFrame({'y true' :y_train,\n",
    "                      'y pred' : clf.predict(X.loc[2015]).ravel(),\n",
    "                      'set': ['train' for x in range(X.loc[2015].shape[0])] })\n",
    "\n",
    "res = pd.concat([test, train])\n",
    "\n",
    "sns.scatterplot(data=res, x='y true', y='y pred', \n",
    "                style='set', markers=['o', 'X'], hue='set')"
   ]
  },
  {
   "cell_type": "code",
   "execution_count": null,
   "metadata": {
    "slideshow": {
     "slide_type": "subslide"
    }
   },
   "outputs": [],
   "source": [
    "names = clf['preprocessing'].transformers_[1][1]['encoder']\\\n",
    "                                .get_feature_names(categorical_features)\n",
    "index = numeric_features + list(names)\n",
    "coef = pd.Series(clf.named_steps['regressor'].regressor_.coef_, index=index)\n",
    "\n",
    "plt.figure(figsize=(12, 25))\n",
    "coef.sort_values(inplace=True)\n",
    "coef.plot(kind='barh')\n",
    "plt.show()"
   ]
  },
  {
   "cell_type": "markdown",
   "metadata": {
    "slideshow": {
     "slide_type": "subslide"
    }
   },
   "source": [
    "Le modèle linéaire overfit"
   ]
  },
  {
   "cell_type": "markdown",
   "metadata": {
    "slideshow": {
     "slide_type": "slide"
    }
   },
   "source": [
    "### Données transformées\n",
    "\n",
    "voir `src.features.transform_features.py`"
   ]
  },
  {
   "cell_type": "code",
   "execution_count": null,
   "metadata": {
    "slideshow": {
     "slide_type": "subslide"
    }
   },
   "outputs": [],
   "source": [
    "data_tr.sort_values('SiteEnergyUseWN_kBtu')"
   ]
  },
  {
   "cell_type": "code",
   "execution_count": null,
   "metadata": {
    "slideshow": {
     "slide_type": "slide"
    }
   },
   "outputs": [],
   "source": [
    "data_train = data_tr.loc[2015].reset_index(drop=True)\n",
    "data_test = data_tr.loc[2016].reset_index(drop=True)\n",
    "\n",
    "\n",
    "clf = Pipeline([\n",
    "    ('log_transformer', log_transform),\n",
    "    ('regressor', TransformedTargetRegressor(LinearRegression(), \n",
    "                                             transformer=log_transform))\n",
    "])\n",
    "\n",
    "clf.fit(data_train.drop(target, axis=1), data_train[target])"
   ]
  },
  {
   "cell_type": "code",
   "execution_count": null,
   "metadata": {
    "slideshow": {
     "slide_type": "subslide"
    }
   },
   "outputs": [],
   "source": [
    "data_train.drop(target, axis=1).describe()"
   ]
  },
  {
   "cell_type": "code",
   "execution_count": null,
   "metadata": {
    "slideshow": {
     "slide_type": "slide"
    }
   },
   "outputs": [],
   "source": [
    "print(\"Score on training set : %5f\" % \n",
    "      clf.score(data_train.drop(target, axis=1), data_train[target]))\n",
    "print(\"Score on testing set : %5f\" % \n",
    "      clf.score(data_test.drop(target, axis=1), data_test[target]))"
   ]
  },
  {
   "cell_type": "code",
   "execution_count": null,
   "metadata": {
    "slideshow": {
     "slide_type": "slide"
    }
   },
   "outputs": [],
   "source": [
    "coef = pd.Series(clf.named_steps['regressor'].regressor_.coef_,\n",
    "                 index=data_tr.drop(target, axis=1).columns)\n",
    "\n",
    "plt.figure(figsize=(5, 12))\n",
    "coef.sort_values(inplace=True)\n",
    "coef.plot(kind='barh')\n",
    "plt.show()"
   ]
  },
  {
   "cell_type": "code",
   "execution_count": null,
   "metadata": {
    "slideshow": {
     "slide_type": "subslide"
    }
   },
   "outputs": [],
   "source": [
    "test = pd.DataFrame({'y true' : data_test[target].values.ravel(),\n",
    "                     'y pred' : clf.predict(data_test\\\n",
    "                                            .drop(target, axis=1)).ravel(),\n",
    "                     'set': ['test' for x in range(data_test.shape[0])] })\n",
    "\n",
    "train = pd.DataFrame({'y true' : data_train[target].values.ravel(),\n",
    "                      'y pred' : clf.predict(data_train\\\n",
    "                                            .drop(target, axis=1)).ravel(),\n",
    "                      'set': ['train' for x in range(data_train.shape[0])] })\n",
    "\n",
    "res = pd.concat([test, train])\n",
    "\n",
    "sns.scatterplot(data=res, x='y true', y='y pred', \n",
    "                style='set', markers=['o', 'X'], hue='set')"
   ]
  },
  {
   "cell_type": "markdown",
   "metadata": {
    "slideshow": {
     "slide_type": "subslide"
    }
   },
   "source": [
    "Mauvais fit et overfit"
   ]
  },
  {
   "cell_type": "markdown",
   "metadata": {
    "slideshow": {
     "slide_type": "slide"
    }
   },
   "source": [
    "### Données transformées (pourcentages de la surface totale)"
   ]
  },
  {
   "cell_type": "code",
   "execution_count": null,
   "metadata": {
    "slideshow": {
     "slide_type": "subslide"
    }
   },
   "outputs": [],
   "source": [
    "data_tr2 = data_tr2[data_tr2['SiteEnergyUseWN_kBtu'] > 0]\n",
    "data_tr2 = data_tr2[data_tr2['TotalGFA'] > 0]"
   ]
  },
  {
   "cell_type": "code",
   "execution_count": null,
   "metadata": {
    "slideshow": {
     "slide_type": "subslide"
    }
   },
   "outputs": [],
   "source": [
    "data_tr2"
   ]
  },
  {
   "cell_type": "code",
   "execution_count": null,
   "metadata": {
    "slideshow": {
     "slide_type": "slide"
    }
   },
   "outputs": [],
   "source": [
    "data_train = data_tr2.loc[2015]\n",
    "data_test = data_tr2.loc[2016]\n",
    "\n",
    "preprocessor = ColumnTransformer(\n",
    "        transformers=[\n",
    "            ('log_transform', log_transform, [-1]),\n",
    "            ('others', FunctionTransformer(), slice(0, -1))\n",
    "        ]\n",
    ")\n",
    "\n",
    "clf = Pipeline([\n",
    "    ('preprocessor', preprocessor),\n",
    "    ('regressor', TransformedTargetRegressor(LinearRegression(), \n",
    "                                             transformer=log_transform))\n",
    "])\n",
    "\n",
    "clf.fit(data_train.drop(target, axis=1), data_train[target])"
   ]
  },
  {
   "cell_type": "code",
   "execution_count": null,
   "metadata": {
    "slideshow": {
     "slide_type": "subslide"
    }
   },
   "outputs": [],
   "source": [
    "print(\"Score on training set : %5f\" % \n",
    "      clf.score(data_train.drop(target, axis=1), data_train[target]))\n",
    "print(\"Score on testing set : %5f\" % \n",
    "      clf.score(data_test.drop(target, axis=1), data_test[target]))"
   ]
  },
  {
   "cell_type": "code",
   "execution_count": null,
   "metadata": {
    "slideshow": {
     "slide_type": "slide"
    }
   },
   "outputs": [],
   "source": [
    "coef = pd.Series(clf.named_steps['regressor'].regressor_.coef_,\n",
    "                 index=data_tr2.drop(target, axis=1).columns)\n",
    "\n",
    "plt.figure(figsize=(5, 12))\n",
    "coef.sort_values(inplace=True)\n",
    "coef.plot(kind='barh')\n",
    "plt.show()"
   ]
  },
  {
   "cell_type": "code",
   "execution_count": null,
   "metadata": {
    "slideshow": {
     "slide_type": "slide"
    }
   },
   "outputs": [],
   "source": [
    "test = pd.DataFrame({'y true' : data_test[target].values.ravel(),\n",
    "                     'y pred' : clf.predict(data_test\\\n",
    "                                            .drop(target, axis=1)).ravel(),\n",
    "                     'set': ['test' for x in range(data_test.shape[0])] })\n",
    "\n",
    "train = pd.DataFrame({'y true' : data_train[target].values.ravel(),\n",
    "                      'y pred' : clf.predict(data_train\\\n",
    "                                            .drop(target, axis=1)).ravel(),\n",
    "                      'set': ['train' for x in range(data_train.shape[0])] })\n",
    "\n",
    "res = pd.concat([test, train])\n",
    "\n",
    "sns.scatterplot(data=res, x='y true', y='y pred', \n",
    "                style='set', markers=['o', 'X'], hue='set')"
   ]
  },
  {
   "cell_type": "markdown",
   "metadata": {
    "slideshow": {
     "slide_type": "slide"
    }
   },
   "source": [
    "### Conclusions\n",
    "\n",
    "Il est préférable de transformer les données. L'utilisation des proportions de la surface totale semble être la meilleure représentation des données. \n",
    "\n",
    "A ce stade, il est clair que la régression linéaire simple n'est pas la plus adaptée (Overfit systématique)."
   ]
  },
  {
   "cell_type": "code",
   "execution_count": null,
   "metadata": {
    "slideshow": {
     "slide_type": "fragment"
    }
   },
   "outputs": [],
   "source": [
    "data_tr2.to_pickle('../data/processed/model_data_percentV2.pickle')"
   ]
  }
 ],
 "metadata": {
  "celltoolbar": "Slideshow",
  "kernelspec": {
   "display_name": "seattle_energy",
   "language": "python",
   "name": "seattle_energy"
  },
  "language_info": {
   "codemirror_mode": {
    "name": "ipython",
    "version": 3
   },
   "file_extension": ".py",
   "mimetype": "text/x-python",
   "name": "python",
   "nbconvert_exporter": "python",
   "pygments_lexer": "ipython3",
   "version": "3.7.4"
  }
 },
 "nbformat": 4,
 "nbformat_minor": 2
}
