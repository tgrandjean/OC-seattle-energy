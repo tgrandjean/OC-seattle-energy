{
 "cells": [
  {
   "cell_type": "markdown",
   "metadata": {},
   "source": [
    "Anticipez les besoins en consommation électrique de bâtiments\n",
    "=============================================================\n",
    "\n",
    "![logo-seattle](../reports/figures/logo-seattle.png)\n",
    "\n",
    "\n",
    "Explication des variables:\n",
    "[City of seattle](https://data.seattle.gov/dataset/2015-Building-Energy-Benchmarking/h7rm-fz6m)"
   ]
  },
  {
   "cell_type": "code",
   "execution_count": null,
   "metadata": {},
   "outputs": [],
   "source": [
    "import numpy as np\n",
    "import pandas as pd\n",
    "import plotly.express as px\n",
    "import plotly.graph_objects as go\n",
    "import seaborn as sns\n",
    "from sklearn import preprocessing\n",
    "from sklearn import linear_model\n",
    "from sklearn import metrics\n",
    "from sklearn.model_selection import train_test_split\n",
    "from sklearn import decomposition\n",
    "from statsmodels.stats.stattools import medcouple\n",
    "\n",
    "from src.utils.univar import UnivariateAnalysis\n",
    "from src.utils.bivar import BivariateAnalysis\n"
   ]
  },
  {
   "cell_type": "code",
   "execution_count": null,
   "metadata": {},
   "outputs": [],
   "source": [
    "data = pd.read_pickle('../data/interim/full_data.pickle')"
   ]
  },
  {
   "cell_type": "code",
   "execution_count": null,
   "metadata": {},
   "outputs": [],
   "source": [
    "data.columns"
   ]
  },
  {
   "cell_type": "markdown",
   "metadata": {},
   "source": [
    "Variable à prédire (targets)\n",
    "\n",
    "   * SiteEnergyUse/WN (wether normalized?)\n",
    "   * TotalGHGEmissions\n",
    "\n",
    "Variables sélectionnées comme entrée du modèle\n",
    "    \n",
    "   * Surface du bâtiment\n",
    "   * Premiere utilisation du bâtiment\n",
    "   * Surface destinee au premier usage du batiment\n",
    "    "
   ]
  },
  {
   "cell_type": "markdown",
   "metadata": {},
   "source": [
    "## Préparation des variables pour modélisation"
   ]
  },
  {
   "cell_type": "markdown",
   "metadata": {},
   "source": [
    "Usage des surfaces UseTypeGFA ==> pourcentage de la surface totale"
   ]
  },
  {
   "cell_type": "code",
   "execution_count": null,
   "metadata": {},
   "outputs": [],
   "source": [
    "data['LargestPropertyUseTypeGFAPercent'] = data['LargestPropertyUseTypeGFA'] / data['PropertyGFATotal']\n",
    "data['SecondLargestPropertyUseTypeGFAPercent'] = data['SecondLargestPropertyUseTypeGFA'] / data['PropertyGFATotal']\n",
    "data['ThirdLargestPropertyUseTypeGFAPercent'] = data['ThirdLargestPropertyUseTypeGFA'] / data['PropertyGFATotal']\n",
    "\n",
    "data[data['LargestPropertyUseTypeGFAPercent'].isna()]\n",
    "\n",
    "data.loc[data[data['SecondLargestPropertyUseTypeGFAPercent'].isna()].index, 'SecondLargestPropertyUseTypeGFAPercent'] = 0\n",
    "data.loc[data[data['ThirdLargestPropertyUseTypeGFAPercent'].isna()].index, 'ThirdLargestPropertyUseTypeGFAPercent'] = 0\n",
    "\n",
    "data.describe()\n",
    "\n",
    "data = data[data['LargestPropertyUseType'].notna()]\n",
    "data = data[data['SiteEnergyUseWN_kBtu'].notna()]\n",
    "\n",
    "data.shape"
   ]
  },
  {
   "cell_type": "markdown",
   "metadata": {},
   "source": [
    "Pour l'usage des surfaces, on se ramène à une variable ordinale. En effet, l'analyse\n",
    "bivariée (ANOVA) des variables `SiteEnergyUseWN_kBtu`/`SiteEUIWN_kBtu_sf` et `LargestPropertyUseTypeGFA`\n",
    "montre que seul quelques catégories ont un impact sur la cible. On distingue alors les \n",
    "batiments en trois types : Usage normal, Usage ayant une demande élevée et Usage ayant une demande très élevée."
   ]
  },
  {
   "cell_type": "code",
   "execution_count": null,
   "metadata": {},
   "outputs": [],
   "source": [
    "# low demand use type \n",
    "low_demand_use_type = ['']\n",
    "\n",
    "# high demand use type\n",
    "# SiteEUI between 200 and 400 kBtu/sf\n",
    "high_demand_use_type = ['Laboratory',\n",
    "                        'Urgent care/clinic/other outpatient',\n",
    "                        'Supermarket/grocery store',\n",
    "                        'Restaurant',\n",
    "                        'Hospital (general medical & surgical)']\n",
    "\n",
    "# crazy high demand use type\n",
    "# SiteEUI > 600 kBtu/sf\n",
    "crazy_high_demand_use_type = ['Data center']\n",
    "\n",
    "def mapper(x):\n",
    "    if x in high_demand_use_type:\n",
    "        return 'high_demand_use_type'\n",
    "    elif x in crazy_high_demand_use_type:\n",
    "        return 'very_high_demand_use_type'\n",
    "    elif type(x) != str:\n",
    "        return np.nan\n",
    "    else:\n",
    "        return 'normal_demand_use_type'"
   ]
  },
  {
   "cell_type": "code",
   "execution_count": null,
   "metadata": {},
   "outputs": [],
   "source": [
    "data['LargestPropertyUseTypeNorm'] = data['LargestPropertyUseType'].apply(mapper)\n",
    "data['LargestPropertyUseTypeNorm'] = data['LargestPropertyUseTypeNorm'].astype('category')"
   ]
  },
  {
   "cell_type": "code",
   "execution_count": null,
   "metadata": {},
   "outputs": [],
   "source": [
    "data['LargestPropertyUseTypeNorm'] = data['LargestPropertyUseType'].apply(mapper)\n",
    "data['LargestPropertyUseTypeNorm'] = data['LargestPropertyUseTypeNorm'].astype('category')"
   ]
  },
  {
   "cell_type": "code",
   "execution_count": null,
   "metadata": {},
   "outputs": [],
   "source": [
    "data[data['LargestPropertyUseTypeGFAPercent'] > 1][['PropertyName',\n",
    "                                                    'LargestPropertyUseTypeGFA',\n",
    "                                                    'PropertyGFATotal',\n",
    "                                                    'LargestPropertyUseType']]"
   ]
  },
  {
   "cell_type": "markdown",
   "metadata": {},
   "source": [
    "On passe la cible `SiteEnergyUseWN_kBtu` en log"
   ]
  },
  {
   "cell_type": "code",
   "execution_count": null,
   "metadata": {},
   "outputs": [],
   "source": [
    "def log_target(x):\n",
    "    if x > 0:\n",
    "        return np.log10(x)\n",
    "    else:\n",
    "        return x"
   ]
  },
  {
   "cell_type": "code",
   "execution_count": null,
   "metadata": {},
   "outputs": [],
   "source": [
    "data['SiteEnergyUseWN_kBtu_log'] = data['SiteEnergyUseWN_kBtu'].apply(log_target)"
   ]
  },
  {
   "cell_type": "markdown",
   "metadata": {},
   "source": [
    "On passe la variable `PropertyGFATotal` en log"
   ]
  },
  {
   "cell_type": "code",
   "execution_count": null,
   "metadata": {},
   "outputs": [],
   "source": [
    "data['log_GFATotal'] = data['PropertyGFATotal'].apply(log_target)"
   ]
  },
  {
   "cell_type": "markdown",
   "metadata": {},
   "source": [
    "## Quelles sont les variables corrélées avec la cible?"
   ]
  },
  {
   "cell_type": "code",
   "execution_count": null,
   "metadata": {},
   "outputs": [],
   "source": [
    "bivar = BivariateAnalysis(data)"
   ]
  },
  {
   "cell_type": "code",
   "execution_count": null,
   "metadata": {},
   "outputs": [],
   "source": [
    "bivar.anova('SiteEUIWN_kBtu_sf', 'LargestPropertyUseTypeNorm')"
   ]
  },
  {
   "cell_type": "code",
   "execution_count": null,
   "metadata": {},
   "outputs": [],
   "source": [
    "bivar.anova('SiteEnergyUse_kBtu', 'LargestPropertyUseTypeNorm')"
   ]
  },
  {
   "cell_type": "code",
   "execution_count": null,
   "metadata": {},
   "outputs": [],
   "source": [
    "bivar.regression(['PropertyGFATotal', 'SiteEnergyUseWN_kBtu'])"
   ]
  },
  {
   "cell_type": "code",
   "execution_count": null,
   "metadata": {},
   "outputs": [],
   "source": [
    "sns.scatterplot(x='PropertyGFATotal', \n",
    "                y='SiteEnergyUse_kBtu',\n",
    "                data=data, hue='LargestPropertyUseTypeNorm',\n",
    "                palette=['#f5aa42', \n",
    "                         '#69f542',\n",
    "                         '#f54242'])"
   ]
  },
  {
   "cell_type": "code",
   "execution_count": null,
   "metadata": {},
   "outputs": [],
   "source": [
    "use_type = \"LargestPropertyUseTypeNorm\"\n",
    "norm_ = \"normal_demand_use_type\""
   ]
  },
  {
   "cell_type": "code",
   "execution_count": null,
   "metadata": {},
   "outputs": [],
   "source": [
    "bivar = BivariateAnalysis(data[data[use_type] == norm_])"
   ]
  },
  {
   "cell_type": "code",
   "execution_count": null,
   "metadata": {},
   "outputs": [],
   "source": [
    "bivar.regression(['PropertyGFATotal', 'SiteEnergyUseWN_kBtu'])"
   ]
  },
  {
   "cell_type": "code",
   "execution_count": null,
   "metadata": {},
   "outputs": [],
   "source": [
    "data"
   ]
  },
  {
   "cell_type": "code",
   "execution_count": null,
   "metadata": {},
   "outputs": [],
   "source": [
    "fig = px.scatter(data, x='log_GFATotal', \n",
    "                 y='SiteEnergyUseWN_kBtu_log', \n",
    "                 color='LargestPropertyUseTypeNorm',\n",
    "                 hover_data=['PropertyName'])\n",
    "\n",
    "fig.show()"
   ]
  },
  {
   "cell_type": "code",
   "execution_count": null,
   "metadata": {},
   "outputs": [],
   "source": [
    "data = data[data['SiteEnergyUseWN_kBtu_log'] > 0]"
   ]
  },
  {
   "cell_type": "code",
   "execution_count": null,
   "metadata": {},
   "outputs": [],
   "source": [
    "fig = px.scatter(data, x='log_GFATotal', \n",
    "                 y='SiteEnergyUseWN_kBtu_log', \n",
    "                 color='LargestPropertyUseTypeNorm',\n",
    "                 hover_data=['PropertyName'])\n",
    "\n",
    "fig.show()"
   ]
  },
  {
   "cell_type": "code",
   "execution_count": null,
   "metadata": {},
   "outputs": [],
   "source": [
    "fig = px.scatter(data, x='log_GFATotal', \n",
    "                 y='SiteEnergyUseWN_kBtu_log', \n",
    "                 color='LargestPropertyUseType',\n",
    "                 hover_data=['PropertyName'])\n",
    "\n",
    "fig.show()"
   ]
  },
  {
   "cell_type": "code",
   "execution_count": null,
   "metadata": {},
   "outputs": [],
   "source": [
    "fig = px.scatter(data, x='PropertyGFATotal', \n",
    "                 y='SiteEnergyUseWN_kBtu', \n",
    "                 color='LargestPropertyUseType',\n",
    "                 hover_data=['PropertyName'])\n",
    "\n",
    "fig.show()"
   ]
  },
  {
   "cell_type": "code",
   "execution_count": null,
   "metadata": {},
   "outputs": [],
   "source": [
    "fig = px.scatter(data, x='log_GFATotal', \n",
    "                 y='SiteEnergyUseWN_kBtu_log', \n",
    "                 color='ComplianceStatus',\n",
    "                 hover_data=['PropertyName'])\n",
    "\n",
    "fig.show()"
   ]
  },
  {
   "cell_type": "code",
   "execution_count": null,
   "metadata": {},
   "outputs": [],
   "source": [
    "bivar = BivariateAnalysis(data)"
   ]
  },
  {
   "cell_type": "code",
   "execution_count": null,
   "metadata": {},
   "outputs": [],
   "source": [
    "bivar.regression(['log_GFATotal', 'SiteEnergyUseWN_kBtu_log'])"
   ]
  },
  {
   "cell_type": "code",
   "execution_count": null,
   "metadata": {},
   "outputs": [],
   "source": [
    "bivar = BivariateAnalysis(data.query('LargestPropertyUseType == \"Multifamily housing\"'))\n",
    "bivar.regression(['log_GFATotal', 'SiteEnergyUseWN_kBtu_log'])"
   ]
  },
  {
   "cell_type": "code",
   "execution_count": null,
   "metadata": {},
   "outputs": [],
   "source": [
    "bivar = BivariateAnalysis(data.query('LargestPropertyUseType == \"Hotel\"'))\n",
    "bivar.regression(['log_GFATotal', 'SiteEnergyUseWN_kBtu_log'])"
   ]
  },
  {
   "cell_type": "code",
   "execution_count": null,
   "metadata": {},
   "outputs": [],
   "source": [
    "bivar = BivariateAnalysis(data.query('LargestPropertyUseType == \"K-12 school\"'))\n",
    "bivar.regression(['log_GFATotal', 'SiteEnergyUseWN_kBtu_log'])"
   ]
  },
  {
   "cell_type": "code",
   "execution_count": null,
   "metadata": {},
   "outputs": [],
   "source": [
    "bivar = BivariateAnalysis(data.query('LargestPropertyUseType == \"Office\"'))\n",
    "bivar.regression(['log_GFATotal', 'SiteEnergyUseWN_kBtu_log'])"
   ]
  },
  {
   "cell_type": "code",
   "execution_count": null,
   "metadata": {},
   "outputs": [],
   "source": [
    "sns.regplot(x='log_GFATotal', \n",
    "            y='SiteEnergyUseWN_kBtu_log',\n",
    "            data=data, fit_reg=True)"
   ]
  },
  {
   "cell_type": "code",
   "execution_count": null,
   "metadata": {},
   "outputs": [],
   "source": [
    "query = 'LargestPropertyUseType == \"Hotel\" | LargestPropertyUseType == \"Multifamily housing\"'\n",
    "bivar = BivariateAnalysis(data.query(query))\n",
    "bivar.regression(['log_GFATotal', 'SiteEnergyUseWN_kBtu_log'])"
   ]
  },
  {
   "cell_type": "markdown",
   "metadata": {},
   "source": [
    "### Outliers"
   ]
  },
  {
   "cell_type": "code",
   "execution_count": null,
   "metadata": {},
   "outputs": [],
   "source": [
    "def asymetric_boxplot(df, col):\n",
    "    data_ = df[col]\n",
    "    med = data_.median()\n",
    "    q1 = data_.quantile(0.25)\n",
    "    q3 = data_.quantile(0.75)\n",
    "    iqr = q3 - q1\n",
    "    mc = medcouple(data_)\n",
    "    mean = data_.mean()\n",
    "    \n",
    "    if mc > 0:\n",
    "        low_whisker = q1 - (1.5 * np.exp(-3 * mc) * iqr)\n",
    "        high_whisker = q3 + (1.5 * np.exp(4 * mc) * iqr)\n",
    "    else:\n",
    "        low_whisker = q1 - (1.5 * np.exp(-4 * mc) * iqr)\n",
    "        high_whisker = q3 + (1.5 * np.exp(3 * mc) * iqr)\n",
    "    \n",
    "    fig = go.Figure()\n",
    "    fig.add_trace(go.Box(\n",
    "        x=[data_], name=\"Skewed box plot\",\n",
    "        boxpoints='suspectedoutliers'\n",
    "    ))\n",
    "    \n",
    "    fig.update_traces(q1=[q1], median=[med], q3=[q3], \n",
    "                      lowerfence=[low_whisker], \n",
    "                      upperfence=[high_whisker])\n",
    "    \n",
    "    \n",
    "    \n",
    "    fig.show()\n",
    "    \n",
    "    fig2 = px.histogram(df, x=col)\n",
    "    \n",
    "    fig2.show()"
   ]
  },
  {
   "cell_type": "code",
   "execution_count": null,
   "metadata": {},
   "outputs": [],
   "source": [
    "asymetric_boxplot(data, 'PropertyGFATotal')"
   ]
  },
  {
   "cell_type": "code",
   "execution_count": null,
   "metadata": {},
   "outputs": [],
   "source": [
    "asymetric_boxplot(data, 'log_GFATotal')"
   ]
  },
  {
   "cell_type": "code",
   "execution_count": null,
   "metadata": {},
   "outputs": [],
   "source": [
    "asymetric_boxplot(data, 'SiteEnergyUseWN_kBtu')"
   ]
  },
  {
   "cell_type": "code",
   "execution_count": null,
   "metadata": {},
   "outputs": [],
   "source": [
    "asymetric_boxplot(data, 'SiteEnergyUseWN_kBtu_log')"
   ]
  },
  {
   "cell_type": "markdown",
   "metadata": {},
   "source": [
    "### PCA (Principal component analysis)"
   ]
  }
 ],
 "metadata": {
  "kernelspec": {
   "display_name": "seattle_energy",
   "language": "python",
   "name": "seattle_energy"
  },
  "language_info": {
   "codemirror_mode": {
    "name": "ipython",
    "version": 3
   },
   "file_extension": ".py",
   "mimetype": "text/x-python",
   "name": "python",
   "nbconvert_exporter": "python",
   "pygments_lexer": "ipython3",
   "version": "3.7.4"
  }
 },
 "nbformat": 4,
 "nbformat_minor": 4
}
