{
 "cells": [
  {
   "cell_type": "markdown",
   "metadata": {},
   "source": [
    "Anticipez les besoins en consommation électrique de bâtiments\n",
    "=============================================================\n",
    "\n",
    "![logo-seattle](../reports/figures/logo-seattle.png)\n",
    "\n",
    "\n",
    "Explication des variables:\n",
    "[City of seattle](https://data.seattle.gov/dataset/2015-Building-Energy-Benchmarking/h7rm-fz6m)"
   ]
  },
  {
   "cell_type": "code",
   "execution_count": null,
   "metadata": {},
   "outputs": [],
   "source": [
    "import numpy as np\n",
    "import pandas as pd\n",
    "\n",
    "import plotly.express as px\n",
    "import seaborn as sns\n",
    "from sklearn import preprocessing\n",
    "from sklearn import linear_model\n",
    "from sklearn import metrics\n",
    "from sklearn.model_selection import train_test_split\n",
    "from sklearn import decomposition\n",
    "\n",
    "from src.utils.bivar import BivariateAnalysis\n",
    "\n",
    "sns.set()"
   ]
  },
  {
   "cell_type": "code",
   "execution_count": null,
   "metadata": {},
   "outputs": [],
   "source": [
    "data = pd.read_pickle('../data/interim/full_data.pickle')"
   ]
  },
  {
   "cell_type": "code",
   "execution_count": null,
   "metadata": {},
   "outputs": [],
   "source": [
    "data.columns"
   ]
  },
  {
   "cell_type": "markdown",
   "metadata": {},
   "source": [
    "Variable à prédire (targets)\n",
    "\n",
    "   * SiteEnergyUse/WN (wether normalized?)\n",
    "   * TotalGHGEmissions\n",
    "\n",
    "Variables sélectionnées comme entrée du modèle\n",
    "    \n",
    "   * Surface du bâtiment\n",
    "   * Premiere utilisation du bâtiment\n",
    "   * Surface destinee au premier usage du batiment\n",
    "    "
   ]
  },
  {
   "cell_type": "markdown",
   "metadata": {},
   "source": [
    "## Préparation des variables pour modélisation"
   ]
  },
  {
   "cell_type": "markdown",
   "metadata": {},
   "source": [
    "suppression des lignes dont la consomation est nulle"
   ]
  },
  {
   "cell_type": "code",
   "execution_count": null,
   "metadata": {},
   "outputs": [],
   "source": [
    "data = data[data[\"SiteEnergyUseWN_kBtu\"] > 0]"
   ]
  },
  {
   "cell_type": "markdown",
   "metadata": {},
   "source": [
    "On supprime également les lignes pour lesquelles on a pas l'usage principal du bâtiment"
   ]
  },
  {
   "cell_type": "code",
   "execution_count": null,
   "metadata": {},
   "outputs": [],
   "source": [
    "data = data[data['LargestPropertyUseType'].notna()]"
   ]
  },
  {
   "cell_type": "markdown",
   "metadata": {},
   "source": [
    "## Quelles sont les variables corrélées avec la cible?"
   ]
  },
  {
   "cell_type": "code",
   "execution_count": null,
   "metadata": {},
   "outputs": [],
   "source": [
    "bivar = BivariateAnalysis(data)\n",
    "bivar.anova('SiteEnergyUseWN_kBtu', 'LargestPropertyUseType', orient='h')"
   ]
  },
  {
   "cell_type": "code",
   "execution_count": null,
   "metadata": {},
   "outputs": [],
   "source": [
    "bivar.regression(['PropertyGFATotal', 'SiteEnergyUseWN_kBtu'])"
   ]
  },
  {
   "cell_type": "markdown",
   "metadata": {},
   "source": [
    "**Notes** : Passage en log pour les colonnes PropertyGFATotal et SiteEnergyUseWN_kBtu!"
   ]
  },
  {
   "cell_type": "code",
   "execution_count": null,
   "metadata": {},
   "outputs": [],
   "source": [
    "data['logPropertyGFATotal'] = data['PropertyGFATotal'].apply(np.log1p)\n",
    "data['logSiteEnergyUseWN_kBtu'] = data['SiteEnergyUseWN_kBtu'].apply(np.log1p)"
   ]
  },
  {
   "cell_type": "code",
   "execution_count": null,
   "metadata": {},
   "outputs": [],
   "source": [
    "bivar = BivariateAnalysis(data)\n",
    "bivar.regression(['logPropertyGFATotal', 'logSiteEnergyUseWN_kBtu'])\n"
   ]
  },
  {
   "cell_type": "markdown",
   "metadata": {},
   "source": [
    "Meilleure corrélation entre les logs des variables"
   ]
  },
  {
   "cell_type": "code",
   "execution_count": null,
   "metadata": {},
   "outputs": [],
   "source": [
    "fig = px.scatter(data, x='logPropertyGFATotal', \n",
    "                 y='logSiteEnergyUseWN_kBtu',\n",
    "                 hover_data=['PropertyName'],\n",
    "                 color='LargestPropertyUseType')\n",
    "fig.show()"
   ]
  },
  {
   "cell_type": "code",
   "execution_count": null,
   "metadata": {},
   "outputs": [],
   "source": [
    "data.to_pickle('../data/interim/full_dataV2.pickle')"
   ]
  }
 ],
 "metadata": {
  "kernelspec": {
   "display_name": "seattle_energy",
   "language": "python",
   "name": "seattle_energy"
  },
  "language_info": {
   "codemirror_mode": {
    "name": "ipython",
    "version": 3
   },
   "file_extension": ".py",
   "mimetype": "text/x-python",
   "name": "python",
   "nbconvert_exporter": "python",
   "pygments_lexer": "ipython3",
   "version": "3.7.4"
  }
 },
 "nbformat": 4,
 "nbformat_minor": 4
}
