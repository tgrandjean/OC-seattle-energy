{
 "cells": [
  {
   "cell_type": "markdown",
   "metadata": {},
   "source": [
    "### Utilisation Pipeline et chaining estimators"
   ]
  },
  {
   "cell_type": "code",
   "execution_count": null,
   "metadata": {},
   "outputs": [],
   "source": [
    "import matplotlib.pyplot as plt\n",
    "import missingno\n",
    "import numpy as np\n",
    "import pandas as pd\n",
    "import seaborn as sns\n",
    "from sklearn.pipeline import Pipeline\n",
    "from sklearn.preprocessing import StandardScaler, FunctionTransformer, OneHotEncoder\n",
    "from sklearn.decomposition import PCA\n",
    "from sklearn.impute import SimpleImputer\n",
    "from sklearn.compose import ColumnTransformer, TransformedTargetRegressor\n",
    "from sklearn.linear_model import LassoCV\n",
    "from sklearn.model_selection import train_test_split\n",
    "from tempfile import mkdtemp\n",
    "\n",
    "from src.utils.univar import UnivariateAnalysis\n",
    "\n",
    "sns.set()\n"
   ]
  },
  {
   "cell_type": "code",
   "execution_count": null,
   "metadata": {},
   "outputs": [],
   "source": [
    "data = pd.read_pickle('../data/interim/full_data.pickle')"
   ]
  },
  {
   "cell_type": "code",
   "execution_count": null,
   "metadata": {},
   "outputs": [],
   "source": [
    "target = ['SiteEnergyUseWN_kBtu']\n",
    "inputs = ['PropertyGFATotal', 'PropertyGFAParking', 'PropertyGFABuilding_s',\n",
    "          'LargestPropertyUseType', 'LargestPropertyUseTypeGFA',\n",
    "          'SecondLargestPropertyUseType', 'SecondLargestPropertyUseTypeGFA',\n",
    "          'ThirdLargestPropertyUseType', 'ThirdLargestPropertyUseTypeGFA',]"
   ]
  },
  {
   "cell_type": "code",
   "execution_count": null,
   "metadata": {},
   "outputs": [],
   "source": [
    "missingno.matrix(data[inputs + target])\n",
    "plt.show()"
   ]
  },
  {
   "cell_type": "markdown",
   "metadata": {},
   "source": [
    "On drop toutes les lignes contenant des valeurs manquantes essentielles"
   ]
  },
  {
   "cell_type": "code",
   "execution_count": null,
   "metadata": {},
   "outputs": [],
   "source": [
    "data[data['LargestPropertyUseType'].isnull()]"
   ]
  },
  {
   "cell_type": "code",
   "execution_count": null,
   "metadata": {},
   "outputs": [],
   "source": [
    "data[data['LargestPropertyUseType'].isnull()]"
   ]
  },
  {
   "cell_type": "code",
   "execution_count": null,
   "metadata": {},
   "outputs": [],
   "source": [
    "data.drop(data[data['LargestPropertyUseType'].isnull()].index, axis=0, inplace=True)\n",
    "# No missing values in target allowed\n",
    "data.drop(data[data['SiteEnergyUseWN_kBtu'].isnull()].index, axis=0, inplace=True)\n",
    "data.drop(data[data['SiteEUI_kBtu_sf'].isnull()].index, axis=0, inplace=True)"
   ]
  },
  {
   "cell_type": "code",
   "execution_count": null,
   "metadata": {},
   "outputs": [],
   "source": [
    "missingno.matrix(data[inputs + target])\n",
    "plt.show()"
   ]
  },
  {
   "cell_type": "markdown",
   "metadata": {},
   "source": [
    "Certain usage sont trop peu représentés. "
   ]
  },
  {
   "cell_type": "code",
   "execution_count": null,
   "metadata": {},
   "outputs": [],
   "source": [
    "univar = UnivariateAnalysis(data.loc[2015])\n",
    "col = 'LargestPropertyUseType'\n",
    "univar.make_analysis(col, orient='h', order=data.loc[2016][col].value_counts().index)"
   ]
  },
  {
   "cell_type": "code",
   "execution_count": null,
   "metadata": {},
   "outputs": [],
   "source": [
    "univar = UnivariateAnalysis(data.loc[2016])\n",
    "col = 'LargestPropertyUseType'\n",
    "univar.make_analysis(col, orient='h', order=data.loc[2016][col].value_counts().index)"
   ]
  },
  {
   "cell_type": "code",
   "execution_count": null,
   "metadata": {},
   "outputs": [],
   "source": [
    "list(set(data.loc[2015][col].unique()) - set(data.loc[2016][col].unique()))"
   ]
  },
  {
   "cell_type": "code",
   "execution_count": null,
   "metadata": {},
   "outputs": [],
   "source": [
    "categorical_features = [x for x in inputs if data[x].dtype.name == 'category']\n",
    "\n",
    "for col in categorical_features:\n",
    "    print(list(set(data.loc[2015][col].unique()) -\\\n",
    "               set(data.loc[2016][col].unique())))\n",
    "    print(list(set(data.loc[2016][col].unique()) -\\\n",
    "               set(data.loc[2015][col].unique())))"
   ]
  },
  {
   "cell_type": "code",
   "execution_count": null,
   "metadata": {},
   "outputs": [],
   "source": [
    "uncommon_cat = list()\n",
    "for col in categorical_features:\n",
    "    diff_15_16 = list(set(data.loc[2015][col].unique()) -\\\n",
    "                      set(data.loc[2016][col].unique()))\n",
    "    print(diff_15_16)\n",
    "    diff_16_15 = list(set(data.loc[2016][col].unique()) -\\\n",
    "                      set(data.loc[2015][col].unique()))\n",
    "    print(diff_16_15)\n",
    "    uncommon_cat += diff_15_16 \n",
    "    uncommon_cat += diff_16_15\n",
    "uncommon_cat = list(dict.fromkeys(uncommon_cat))"
   ]
  },
  {
   "cell_type": "code",
   "execution_count": null,
   "metadata": {},
   "outputs": [],
   "source": [
    "uncommon_cat"
   ]
  },
  {
   "cell_type": "code",
   "execution_count": null,
   "metadata": {},
   "outputs": [],
   "source": [
    "total = 0\n",
    "for col in categorical_features:\n",
    "    for cat in uncommon_cat:\n",
    "        total += data[data[col] == cat].shape[0]\n",
    "        data.drop(data[data[col] == cat].index, axis=0, inplace=True)\n",
    "print('removed %i rows' % total)"
   ]
  },
  {
   "cell_type": "code",
   "execution_count": null,
   "metadata": {},
   "outputs": [],
   "source": [
    "missingno.matrix(data[inputs + target])\n",
    "plt.show()"
   ]
  },
  {
   "cell_type": "markdown",
   "metadata": {},
   "source": [
    "### Pipelines"
   ]
  },
  {
   "cell_type": "code",
   "execution_count": null,
   "metadata": {},
   "outputs": [],
   "source": [
    "cache_dir = mkdtemp()"
   ]
  },
  {
   "cell_type": "code",
   "execution_count": null,
   "metadata": {},
   "outputs": [],
   "source": [
    "def assert_positive(x):\n",
    "    return x if x > 0 else 0"
   ]
  },
  {
   "cell_type": "code",
   "execution_count": null,
   "metadata": {},
   "outputs": [],
   "source": [
    "numeric_features = [x for x in inputs if data[x].dtype.name != 'category']\n",
    "num_transformer = Pipeline(memory=cache_dir, steps=[\n",
    "    ('imputer', SimpleImputer(strategy='constant', fill_value=0)),\n",
    "    ('assert_positive', FunctionTransformer(np.vectorize(assert_positive))),\n",
    "    ('log_transformer', FunctionTransformer(np.log1p)),\n",
    "    ('imput_log_nans', SimpleImputer(strategy='constant', fill_value=0)),\n",
    "    ('scaler', StandardScaler())\n",
    "])\n",
    "print(numeric_features)"
   ]
  },
  {
   "cell_type": "code",
   "execution_count": null,
   "metadata": {},
   "outputs": [],
   "source": [
    "categorical_transformer = Pipeline(memory=cache_dir, steps=[\n",
    "    ('inputer', SimpleImputer(strategy='constant', fill_value='')),\n",
    "    ('encoder', OneHotEncoder())\n",
    "])\n",
    "print(categorical_features)"
   ]
  },
  {
   "cell_type": "code",
   "execution_count": null,
   "metadata": {},
   "outputs": [],
   "source": [
    "target_transformer = Pipeline(steps=[\n",
    "    ('log_transformer', FunctionTransformer(np.log1p))\n",
    "])"
   ]
  },
  {
   "cell_type": "code",
   "execution_count": null,
   "metadata": {},
   "outputs": [],
   "source": [
    "preprocessor = ColumnTransformer(\n",
    "    transformers=[\n",
    "        ('num', num_transformer, numeric_features),\n",
    "        ('cat', categorical_transformer, categorical_features),\n",
    "        #('target', target_transformer, target)\n",
    "    ]\n",
    ")"
   ]
  },
  {
   "cell_type": "code",
   "execution_count": null,
   "metadata": {},
   "outputs": [],
   "source": [
    "X_train = data.loc[2015][inputs]\n",
    "y_train = data.loc[2015][target].values\n",
    "X_test = data.loc[2016][inputs]\n",
    "y_test = data.loc[2016][target].values\n",
    "\n",
    "y_train_tr = target_transformer.fit_transform(y_train)\n",
    "y_test_tr = target_transformer.fit_transform(y_test)"
   ]
  },
  {
   "cell_type": "code",
   "execution_count": null,
   "metadata": {},
   "outputs": [],
   "source": [
    "clf = Pipeline(steps=[\n",
    "    ('preprocessing', preprocessor),\n",
    "    ('regressor', LassoCV(alphas=np.logspace(-5, 5, num=10 ** 3)))\n",
    "])"
   ]
  },
  {
   "cell_type": "markdown",
   "metadata": {},
   "source": [
    "### Train"
   ]
  },
  {
   "cell_type": "code",
   "execution_count": null,
   "metadata": {},
   "outputs": [],
   "source": [
    "clf.fit(X_train, y_train_tr.ravel())"
   ]
  },
  {
   "cell_type": "markdown",
   "metadata": {},
   "source": [
    "### Score"
   ]
  },
  {
   "cell_type": "code",
   "execution_count": null,
   "metadata": {},
   "outputs": [],
   "source": [
    "clf.score(X_train, y_train_tr.ravel())"
   ]
  },
  {
   "cell_type": "code",
   "execution_count": null,
   "metadata": {},
   "outputs": [],
   "source": [
    "clf.score(X_test, y_test_tr.ravel())"
   ]
  },
  {
   "cell_type": "code",
   "execution_count": null,
   "metadata": {},
   "outputs": [],
   "source": [
    "names = clf['preprocessing'].transformers_[1][1]['encoder']\\\n",
    "                                .get_feature_names(categorical_features)\n",
    "index = numeric_features + list(names)\n",
    "coef = pd.Series(clf.named_steps['regressor'].coef_, index=index)\n",
    "coef = coef[coef != 0]"
   ]
  },
  {
   "cell_type": "code",
   "execution_count": null,
   "metadata": {},
   "outputs": [],
   "source": [
    "plt.figure(figsize=(5, 12))\n",
    "coef.sort_values(inplace=True)\n",
    "coef.plot(kind='barh')"
   ]
  },
  {
   "cell_type": "code",
   "execution_count": null,
   "metadata": {},
   "outputs": [],
   "source": [
    "sns.scatterplot(y_test_tr.ravel(), clf.predict(X_test))"
   ]
  },
  {
   "cell_type": "code",
   "execution_count": null,
   "metadata": {},
   "outputs": [],
   "source": [
    "sns.scatterplot(y_train_tr.ravel(), clf.predict(X_train))"
   ]
  }
 ],
 "metadata": {
  "kernelspec": {
   "display_name": "seattle_energy",
   "language": "python",
   "name": "seattle_energy"
  },
  "language_info": {
   "codemirror_mode": {
    "name": "ipython",
    "version": 3
   },
   "file_extension": ".py",
   "mimetype": "text/x-python",
   "name": "python",
   "nbconvert_exporter": "python",
   "pygments_lexer": "ipython3",
   "version": "3.7.4"
  }
 },
 "nbformat": 4,
 "nbformat_minor": 2
}
