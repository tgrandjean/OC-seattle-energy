{
 "cells": [
  {
   "cell_type": "markdown",
   "metadata": {
    "slideshow": {
     "slide_type": "slide"
    }
   },
   "source": [
    "Anticipez les besoins en consommation électrique de bâtiments\n",
    "=============================================================\n",
    "\n",
    "![logo-seattle](https://www.seattle.gov/Documents/Departments/Arts/Downloads/Logo/Seattle_logo_landscape_blue-black.png)\n",
    "\n",
    "\n",
    "Explication des variables:\n",
    "[City of seattle](https://data.seattle.gov/dataset/2015-Building-Energy-Benchmarking/h7rm-fz6m)\n",
    "\n"
   ]
  },
  {
   "cell_type": "markdown",
   "metadata": {
    "slideshow": {
     "slide_type": "subslide"
    }
   },
   "source": [
    "On cherche ici à déterminer quel modèle est le plus adapté.\n",
    "Les modèles de régression possible sont:\n",
    "   \n",
    "   * **Linéaires** :\n",
    "      * LinearRegression (Overfitting)\n",
    "      * Ridge\n",
    "      * Lasso\n",
    "      * Elastic-Net\n",
    "      * *LARS* (context : number of features >> number of samples [1])\n",
    "      \n",
    "   * **Support Vector Machine (SVM)**\n",
    "      * Support Vector Regression (SVR)\n",
    "      \n",
    "   * **Stochastic Gradient Descent**\n",
    "      * SGDRegressor\n",
    "     \n",
    "   * **Nearest Neighbors**\n",
    "      * Nearest Neighbors Regression (poor results on sparse data [2])\n",
    "   \n",
    "   * **Gaussian Processes**\n",
    "      * *Gaussian Process Regression (GPR)*\n",
    "   "
   ]
  },
  {
   "cell_type": "markdown",
   "metadata": {
    "slideshow": {
     "slide_type": "subslide"
    }
   },
   "source": [
    "   * **Decision Trees**\n",
    "      * DecisionTreeRegressor\n",
    "      \n",
    "   * **Ensemble methods**\n",
    "      * RandomForestRegressor\n",
    "      * *ExtraTreesRegressor*\n",
    "      * GradientBoostingRegressor\n",
    "      * *VotingRegressor*\n",
    "      \n",
    "   * **Multiclass and multilabel algorithms**\n",
    "      * *Regressor Chain* (Intéressant si on cherche à prévoir des sorties multiples corrélées)\n",
    "      \n",
    "   * **Neural Network**\n",
    "      * Multi Layer Perceptron - MLPRegressor\n",
    "\n",
    "[1] [Scikit-learn documentation](https://scikit-learn.org/stable/modules/linear_model.html#least-angle-regression).\n",
    "\n",
    "[2] Müller, A. C., & Guido, S. (2017). Introduction to machine learning with Python: A guide for data scientists."
   ]
  },
  {
   "cell_type": "code",
   "execution_count": null,
   "metadata": {
    "slideshow": {
     "slide_type": "slide"
    }
   },
   "outputs": [],
   "source": [
    "from importlib import import_module\n",
    "import os\n",
    "from pathlib import Path\n",
    "import pickle\n",
    "from shutil import rmtree\n",
    "from tempfile import mkdtemp\n",
    "from time import time\n",
    "\n",
    "import matplotlib\n",
    "import matplotlib.pyplot as plt\n",
    "import numpy as np\n",
    "import pandas as pd\n",
    "import seaborn as sns\n",
    "# https://scikit-learn.org/stable/modules/cross_validation.html#computing-cross-validated-metrics\n",
    "from sklearn.compose import ColumnTransformer, TransformedTargetRegressor\n",
    "from sklearn.model_selection import cross_val_score, GridSearchCV, train_test_split\n",
    "from sklearn.neighbors import KNeighborsRegressor\n",
    "from sklearn.pipeline import Pipeline\n",
    "from sklearn.preprocessing import FunctionTransformer\n",
    "import statsmodels.api as sm\n",
    "cache_dir = mkdtemp()\n",
    "\n",
    "sns.set()\n",
    "sns.set_context(\"notebook\", font_scale=1.0)\n",
    "\n",
    "matplotlib.rcParams['figure.figsize'] = (10, 6)"
   ]
  },
  {
   "cell_type": "markdown",
   "metadata": {
    "slideshow": {
     "slide_type": "slide"
    }
   },
   "source": [
    "On recharge les données"
   ]
  },
  {
   "cell_type": "code",
   "execution_count": null,
   "metadata": {
    "slideshow": {
     "slide_type": "subslide"
    }
   },
   "outputs": [],
   "source": [
    "data = pd.read_pickle('../data/processed/model_data_percentV2.pickle')"
   ]
  },
  {
   "cell_type": "code",
   "execution_count": null,
   "metadata": {
    "slideshow": {
     "slide_type": "fragment"
    }
   },
   "outputs": [],
   "source": [
    "data.describe()"
   ]
  },
  {
   "cell_type": "code",
   "execution_count": null,
   "metadata": {
    "slideshow": {
     "slide_type": "fragment"
    }
   },
   "outputs": [],
   "source": [
    "data.head()"
   ]
  },
  {
   "cell_type": "markdown",
   "metadata": {
    "slideshow": {
     "slide_type": "slide"
    }
   },
   "source": [
    "Variable à prédire"
   ]
  },
  {
   "cell_type": "code",
   "execution_count": null,
   "metadata": {
    "slideshow": {
     "slide_type": "fragment"
    }
   },
   "outputs": [],
   "source": [
    "target = ['SiteEnergyUseWN_kBtu']"
   ]
  },
  {
   "cell_type": "code",
   "execution_count": null,
   "metadata": {
    "slideshow": {
     "slide_type": "fragment"
    }
   },
   "outputs": [],
   "source": [
    "log_transform = FunctionTransformer(np.log1p, inverse_func=np.expm1)"
   ]
  },
  {
   "cell_type": "code",
   "execution_count": null,
   "metadata": {
    "slideshow": {
     "slide_type": "subslide"
    }
   },
   "outputs": [],
   "source": [
    "# data_train = data.loc[2015]\n",
    "# data_test = data.loc[2016]\n",
    "\n",
    "# Reduce overfitting by increasing the number of observations \n",
    "data_train, data_test = train_test_split(data, test_size=0.2)"
   ]
  },
  {
   "cell_type": "code",
   "execution_count": null,
   "metadata": {
    "slideshow": {
     "slide_type": "subslide"
    }
   },
   "outputs": [],
   "source": [
    "preprocessor = ColumnTransformer(\n",
    "        transformers=[\n",
    "            ('log_transform', log_transform, [-1]),\n",
    "            ('others', FunctionTransformer(), slice(0, -1))\n",
    "        ]\n",
    ")\n",
    "\n",
    "clf = Pipeline([\n",
    "    ('preprocessor', preprocessor),\n",
    "    ('regressor', TransformedTargetRegressor(KNeighborsRegressor(n_neighbors=4), \n",
    "                                             transformer=log_transform))\n",
    "])\n",
    "\n",
    "clf.fit(data_train.drop(target, axis=1), data_train[target])"
   ]
  },
  {
   "cell_type": "code",
   "execution_count": null,
   "metadata": {
    "slideshow": {
     "slide_type": "slide"
    }
   },
   "outputs": [],
   "source": [
    "models = {\n",
    "    'LinearRegression': 'linear_model.LinearRegression',\n",
    "    'Ridge': 'linear_model.Ridge',\n",
    "    'Lasso': 'linear_model.Lasso',\n",
    "    'Elastic-Net': 'linear_model.ElasticNet',\n",
    "    'SGDRegressor': 'linear_model.SGDRegressor',\n",
    "    'KNNRegressor': 'neighbors.KNeighborsRegressor',\n",
    "    'DecisionTreeRegressor': 'tree.DecisionTreeRegressor',\n",
    "    'GradientBoostingRegressor': 'ensemble.GradientBoostingRegressor',\n",
    "    'RandomForestRegressor': 'ensemble.RandomForestRegressor',\n",
    "    'SVR': 'svm.SVR',\n",
    "    'MLP': 'neural_network.MLPRegressor',\n",
    "}"
   ]
  },
  {
   "cell_type": "code",
   "execution_count": null,
   "metadata": {
    "slideshow": {
     "slide_type": "skip"
    }
   },
   "outputs": [],
   "source": [
    "models"
   ]
  },
  {
   "cell_type": "code",
   "execution_count": null,
   "metadata": {
    "slideshow": {
     "slide_type": "slide"
    }
   },
   "outputs": [],
   "source": [
    "scores = dict()\n",
    "scores_train = dict()\n",
    "times = dict()\n",
    "\n",
    "for model, cls in models.items():\n",
    "    mod = import_module(f\"sklearn.{cls.split('.')[0]}\")\n",
    "    cls = getattr(mod, cls.split('.')[1])\n",
    "    preprocessor = ColumnTransformer(\n",
    "        transformers=[\n",
    "            ('log_transform', log_transform, [-1]),\n",
    "            ('others', FunctionTransformer(), slice(0, -1))\n",
    "        ]\n",
    "    )\n",
    "\n",
    "    clf = Pipeline([\n",
    "        ('preprocessor', preprocessor),\n",
    "        ('regressor', TransformedTargetRegressor(cls(), \n",
    "                                                 transformer=log_transform))\n",
    "    ])\n",
    "    t1 = time()\n",
    "    clf.fit(data_train.drop(target, axis=1), data_train[target])\n",
    "    t2 = time()\n",
    "    score = clf.score(data_test.drop(target, axis=1), data_test[target])\n",
    "    print(\"score -- %25s : %5f (%3f s)\" % (model, score, t2 - t1))\n",
    "    scores[model] = score\n",
    "    times[model] = t2 - t1\n",
    "    scores_train[model] = clf.score(data_train.drop(target, axis=1), \n",
    "                                    data_train[target])"
   ]
  },
  {
   "cell_type": "code",
   "execution_count": null,
   "metadata": {
    "slideshow": {
     "slide_type": "slide"
    }
   },
   "outputs": [],
   "source": [
    "dataframe = pd.DataFrame(pd.Series(scores, name='score'))\n",
    "dataframe['time'] = pd.Series(times)\n",
    "dataframe['score train'] = pd.Series(scores_train)\n",
    "dataframe.sort_values('score', ascending=False)\n",
    "dataframe['overfit'] = dataframe['score train'] > dataframe['score']\n",
    "default_score = dataframe\n",
    "dataframe"
   ]
  },
  {
   "cell_type": "code",
   "execution_count": null,
   "metadata": {
    "slideshow": {
     "slide_type": "slide"
    }
   },
   "outputs": [],
   "source": [
    "NUM = 20\n",
    "model_params = {\n",
    "    'Ridge': {'regressor__regressor__alpha': np.logspace(-3, 0, num=NUM),\n",
    "              'regressor__regressor__tol': [0.001]},\n",
    "    \n",
    "    'Lasso': {'regressor__regressor__alpha': np.logspace(-5, -3, num=NUM),\n",
    "              'regressor__regressor__tol': [0.001]},\n",
    "    \n",
    "    'Elastic-Net': {'regressor__regressor__alpha': np.logspace(-5, -3, num=NUM),\n",
    "                    'regressor__regressor__tol': [0.001]},\n",
    "    \n",
    "    'SVR': {\"regressor__regressor__C\": [5, 10, 15],\n",
    "            \"regressor__regressor__gamma\": np.arange(0.1, 1.0, NUM),\n",
    "            \"regressor__regressor__kernel\": ['rbf', 'linear']},\n",
    "    \n",
    "    'SGDRegressor': {'regressor__regressor__alpha': np.logspace(-6, -3, num=NUM)},\n",
    "    \n",
    "    'KNNRegressor': {'regressor__regressor__n_neighbors': np.arange(1, 10)},\n",
    "    \n",
    "    'DecisionTreeRegressor': None,\n",
    "    \n",
    "    'RandomForestRegressor': {'regressor__regressor__n_estimators': [250, 275, 300],\n",
    "                              'regressor__regressor__max_depth': [25, 50, 100]},\n",
    "    \n",
    "    'GradientBoostingRegressor': None,\n",
    "    \n",
    "    'MLP': {'regressor__regressor__hidden_layer_sizes' : [(50, 50, 50), \n",
    "                                                          (50, 100, 50), \n",
    "                                                          (100,)],\n",
    "            #'regressor__regressor__activation': ['tanh', 'logistic', 'relu'],\n",
    "            #'regressor__regressor__solver': ['sgd', 'adam'],\n",
    "            'regressor__regressor__alpha': [0.00005, 0.0001, 0.0005],\n",
    "            'regressor__regressor__learning_rate': ['constant', 'adaptive']\n",
    "           }\n",
    "}"
   ]
  },
  {
   "cell_type": "code",
   "execution_count": null,
   "metadata": {
    "slideshow": {
     "slide_type": "subslide"
    }
   },
   "outputs": [],
   "source": [
    "%%time\n",
    "scores = dict()\n",
    "scores_train = dict()\n",
    "times = dict()\n",
    "models_ = dict()\n",
    "\n",
    "for model, cls in models.items():\n",
    "    mod = import_module(f\"sklearn.{cls.split('.')[0]}\")\n",
    "    cls = getattr(mod, cls.split('.')[1])\n",
    "    preprocessor = ColumnTransformer(\n",
    "        transformers=[\n",
    "            ('log_transform', log_transform, [-1]),\n",
    "            ('others', FunctionTransformer(), slice(0, -1))\n",
    "        ]\n",
    "    )\n",
    "    clf = Pipeline(memory=cache_dir, \n",
    "                   steps=[\n",
    "                            ('preprocessor', preprocessor),\n",
    "                            ('regressor', TransformedTargetRegressor(cls(), \n",
    "                                          transformer=log_transform))])\n",
    "    params = model_params.get(model)\n",
    "    if params:\n",
    "        clf = GridSearchCV(clf, params, n_jobs=-1)\n",
    "    else:\n",
    "        pass\n",
    "    t1 = time()\n",
    "    clf.fit(data_train.drop(target, axis=1), data_train[target])\n",
    "    t2 = time()\n",
    "    score = clf.score(data_test.drop(target, axis=1), data_test[target])\n",
    "    print(\"score -- %25s : %5f (%3f s)\" % (model, score, t2 - t1))\n",
    "    scores[model] = score\n",
    "    times[model] = t2 - t1\n",
    "    models_[model] = clf\n",
    "    scores_train[model] = clf.score(data_train.drop(target, axis=1), \n",
    "                data_train[target])"
   ]
  },
  {
   "cell_type": "code",
   "execution_count": null,
   "metadata": {
    "slideshow": {
     "slide_type": "slide"
    }
   },
   "outputs": [],
   "source": [
    "dataframe = pd.DataFrame(pd.Series(scores, name='score'))\n",
    "dataframe['score train'] = pd.Series(scores_train)\n",
    "dataframe['time'] = pd.Series(times)\n",
    "dataframe.sort_values('score', ascending=False, inplace=True)\n",
    "dataframe.reset_index(inplace=True)\n",
    "dataframe.rename(columns={'index': 'model'}, inplace=True)\n",
    "dataframe.set_index(dataframe['model'], inplace=True)\n",
    "dataframe.drop('model', axis=1, inplace=True)\n",
    "dataframe['old score'] = default_score['score']\n",
    "dataframe['gain'] = dataframe['score'] - default_score['score']\n",
    "dataframe['overfit'] = dataframe['score train'] > dataframe['score']\n",
    "dataframe"
   ]
  },
  {
   "cell_type": "code",
   "execution_count": null,
   "metadata": {
    "slideshow": {
     "slide_type": "subslide"
    }
   },
   "outputs": [],
   "source": [
    "dataframe.reset_index(inplace=True)\n",
    "sns.barplot(y='model', x='score', data=dataframe, facecolor=(0.6, 0.6, 0.6, 1))"
   ]
  },
  {
   "cell_type": "code",
   "execution_count": null,
   "metadata": {
    "slideshow": {
     "slide_type": "slide"
    }
   },
   "outputs": [],
   "source": [
    "best_params = {}\n",
    "for model, clf in models_.items():\n",
    "    if model_params.get(model):\n",
    "        best_params[model] = clf.best_params_\n",
    "best_params"
   ]
  },
  {
   "cell_type": "code",
   "execution_count": null,
   "metadata": {
    "slideshow": {
     "slide_type": "fragment"
    }
   },
   "outputs": [],
   "source": [
    "for model, params in best_params.items():\n",
    "    params_ = dict()\n",
    "    for param_name, param_val in params.items():\n",
    "        params_['__'.join(param_name.split('__')[1:])] = param_val\n",
    "        \n",
    "    best_params[model] = params_"
   ]
  },
  {
   "cell_type": "code",
   "execution_count": null,
   "metadata": {
    "slideshow": {
     "slide_type": "slide"
    }
   },
   "outputs": [],
   "source": [
    "%%time\n",
    "scores = dict()\n",
    "score_train = dict()\n",
    "times = dict()\n",
    "models_ = dict()\n",
    "\n",
    "for model, cls in models.items():\n",
    "    mod = import_module(f\"sklearn.{cls.split('.')[0]}\")\n",
    "    cls = getattr(mod, cls.split('.')[1])\n",
    "    preprocessor = ColumnTransformer(\n",
    "        transformers=[\n",
    "            ('log_transform', log_transform, [-1]),\n",
    "            ('others', FunctionTransformer(), slice(0, -1))\n",
    "        ]\n",
    "    )\n",
    "    clf = Pipeline(memory=cache_dir, \n",
    "                   steps=[\n",
    "                            ('preprocessor', preprocessor),\n",
    "                            ('regressor', TransformedTargetRegressor(cls(), \n",
    "                                          transformer=log_transform))])\n",
    "    params = best_params.get(model)\n",
    "    if params:\n",
    "        clf.named_steps['regressor'].set_params(**params)\n",
    "    t1 = time()\n",
    "    clf.fit(data_train.drop(target, axis=1), data_train[target])\n",
    "    t2 = time()\n",
    "    score = clf.score(data_test.drop(target, axis=1), data_test[target])\n",
    "    print(\"score -- %25s : %5f (%3f s)\" % (model, score, t2 - t1))\n",
    "    scores[model] = score\n",
    "    times[model] = t2 - t1\n",
    "    models_[model] = clf\n",
    "    scores_train[model] = clf.score(data_train.drop(target, axis=1), \n",
    "                data_train[target])"
   ]
  },
  {
   "cell_type": "code",
   "execution_count": null,
   "metadata": {
    "slideshow": {
     "slide_type": "slide"
    }
   },
   "outputs": [],
   "source": [
    "dataframe = pd.DataFrame(pd.Series(scores, name='score'))\n",
    "dataframe['score train'] = pd.Series(scores_train)\n",
    "dataframe['time'] = pd.Series(times)\n",
    "dataframe.sort_values('score', ascending=False, inplace=True)\n",
    "dataframe.reset_index(inplace=True)\n",
    "dataframe.rename(columns={'index': 'model'}, inplace=True)\n",
    "dataframe.set_index(dataframe['model'], inplace=True)\n",
    "dataframe.drop('model', axis=1, inplace=True)\n",
    "dataframe['old score'] = default_score['score']\n",
    "dataframe['gain'] = dataframe['score'] - default_score['score']\n",
    "dataframe['overfit'] = dataframe['score train'] > dataframe['score']\n",
    "dataframe.reset_index(inplace=True)\n",
    "sns.barplot(y='model', x='score', data=dataframe, facecolor=(0.6, 0.6, 0.6, 1))\n",
    "plt.show()\n",
    "dataframe"
   ]
  },
  {
   "cell_type": "code",
   "execution_count": null,
   "metadata": {
    "slideshow": {
     "slide_type": "slide"
    }
   },
   "outputs": [],
   "source": [
    "best_model = models_[dataframe.loc[dataframe['score'].idxmax(), 'model']]\n",
    "y_pred = best_model.predict(data_test.drop(target, axis=1))\n",
    "y_true = data_test[target].values"
   ]
  },
  {
   "cell_type": "code",
   "execution_count": null,
   "metadata": {
    "slideshow": {
     "slide_type": "subslide"
    }
   },
   "outputs": [],
   "source": [
    "fig, ax = plt.subplots(1, figsize=(12, 8))\n",
    "sns.scatterplot(x=data_train[target].values.ravel(),\n",
    "                y=best_model.predict(data_train.drop(target, axis=1)).ravel(),\n",
    "                marker='+', alpha=0.4)\n",
    "sns.scatterplot(x='y_true', y='y_pred',\n",
    "            data=pd.DataFrame({'y_true': y_true.ravel(), \n",
    "                               'y_pred': y_pred.ravel()}),\n",
    "           ax=ax, alpha=0.5)\n",
    "\n",
    "plt.show()"
   ]
  },
  {
   "cell_type": "code",
   "execution_count": null,
   "metadata": {
    "slideshow": {
     "slide_type": "skip"
    }
   },
   "outputs": [],
   "source": [
    "base_path = os.path.abspath('..')\n",
    "model_name = dataframe.loc[dataframe['score'].idxmax(), 'model']"
   ]
  },
  {
   "cell_type": "code",
   "execution_count": null,
   "metadata": {
    "slideshow": {
     "slide_type": "skip"
    }
   },
   "outputs": [],
   "source": [
    "path = os.path.join(base_path, 'models', model_name + 'V1.pickle')\n",
    "with open(path, 'wb') as f:\n",
    "    pickle.Pickler(f).dump(best_model)"
   ]
  }
 ],
 "metadata": {
  "celltoolbar": "Slideshow",
  "kernelspec": {
   "display_name": "seattle_energy",
   "language": "python",
   "name": "seattle_energy"
  },
  "language_info": {
   "codemirror_mode": {
    "name": "ipython",
    "version": 3
   },
   "file_extension": ".py",
   "mimetype": "text/x-python",
   "name": "python",
   "nbconvert_exporter": "python",
   "pygments_lexer": "ipython3",
   "version": "3.7.4"
  }
 },
 "nbformat": 4,
 "nbformat_minor": 4
}
