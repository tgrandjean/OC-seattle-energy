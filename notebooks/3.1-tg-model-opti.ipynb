{
 "cells": [
  {
   "cell_type": "markdown",
   "metadata": {
    "slideshow": {
     "slide_type": "slide"
    }
   },
   "source": [
    "Anticipez les besoins en consommation électrique de bâtiments\n",
    "=============================================================\n",
    "\n",
    "![logo-seattle](https://www.seattle.gov/Documents/Departments/Arts/Downloads/Logo/Seattle_logo_landscape_blue-black.png)\n",
    "\n",
    "\n",
    "Explication des variables:\n",
    "[City of seattle](https://data.seattle.gov/dataset/2015-Building-Energy-Benchmarking/h7rm-fz6m)\n",
    "\n"
   ]
  },
  {
   "cell_type": "code",
   "execution_count": null,
   "metadata": {},
   "outputs": [],
   "source": [
    "import pickle\n",
    "\n",
    "import matplotlib.pyplot as plt\n",
    "import numpy as np\n",
    "import pandas as pd\n",
    "import seaborn as sns\n",
    "\n",
    "sns.set()"
   ]
  },
  {
   "cell_type": "code",
   "execution_count": null,
   "metadata": {},
   "outputs": [],
   "source": [
    "data = pd.read_pickle('../data/processed/model_data_percentV2.pickle')"
   ]
  },
  {
   "cell_type": "code",
   "execution_count": null,
   "metadata": {},
   "outputs": [],
   "source": [
    "# Reload models, that allow us to reuse the full pipeline\n",
    "with open('../models/DecisionTreeRegressorV1.pickle', 'rb') as f:\n",
    "    decision_tree = pickle.Unpickler(f).load()\n",
    "\n",
    "with open('../models/RandomForestRegressorV1.pickle', 'rb') as f:\n",
    "    random_forest = pickle.Unpickler(f).load()"
   ]
  },
  {
   "cell_type": "code",
   "execution_count": null,
   "metadata": {},
   "outputs": [],
   "source": [
    "target = ['SiteEnergyUseWN_kBtu']\n",
    "data_train = data.loc[2015]\n",
    "data_test = data.loc[2016]"
   ]
  },
  {
   "cell_type": "code",
   "execution_count": null,
   "metadata": {},
   "outputs": [],
   "source": [
    "decision_tree.fit(data_train.drop(target, axis=1), data_train[target])"
   ]
  },
  {
   "cell_type": "code",
   "execution_count": null,
   "metadata": {},
   "outputs": [],
   "source": [
    "decision_tree.score(data_test.drop(target, axis=1), data_test[target])"
   ]
  },
  {
   "cell_type": "code",
   "execution_count": null,
   "metadata": {},
   "outputs": [],
   "source": [
    "decision_tree.fit(data_train.drop(target, axis=1), data_train[target])"
   ]
  },
  {
   "cell_type": "code",
   "execution_count": null,
   "metadata": {},
   "outputs": [],
   "source": [
    "random_forest.fit(data_train.drop(target, axis=1), data_train[target])"
   ]
  },
  {
   "cell_type": "code",
   "execution_count": null,
   "metadata": {},
   "outputs": [],
   "source": [
    "random_forest.score(data_test.drop(target, axis=1), data_test[target])"
   ]
  },
  {
   "cell_type": "code",
   "execution_count": null,
   "metadata": {},
   "outputs": [],
   "source": [
    "score_test = list()\n",
    "score_train = list()\n",
    "\n",
    "for i in range(1, 50):\n",
    "    decision_tree.set_params(**{'regressor__regressor__max_depth': i})\n",
    "    decision_tree.fit(data_train.drop(target, axis=1), data_train[target])\n",
    "    score_train.append(decision_tree.score(data_train.drop(target, axis=1),\n",
    "                                          data_train[target]))\n",
    "    score_test.append(decision_tree.score(data_test.drop(target, axis=1),\n",
    "                                           data_test[target]))"
   ]
  },
  {
   "cell_type": "code",
   "execution_count": null,
   "metadata": {},
   "outputs": [],
   "source": [
    "plt.figure(figsize=(12, 8))\n",
    "plt.plot(np.arange(1, 50), score_test, label='test')\n",
    "plt.plot(np.arange(1, 50), score_train, label='train')\n",
    "plt.legend()\n",
    "plt.show()"
   ]
  },
  {
   "cell_type": "code",
   "execution_count": null,
   "metadata": {},
   "outputs": [],
   "source": [
    "score_test = list()\n",
    "score_train = list()\n",
    "\n",
    "for i in range(1, 50):\n",
    "    random_forest.set_params(**{'regressor__regressor__max_depth': i})\n",
    "    random_forest.fit(data_train.drop(target, axis=1), data_train[target])\n",
    "    score_train.append(random_forest.score(data_train.drop(target, axis=1),\n",
    "                                          data_train[target]))\n",
    "    score_test.append(random_forest.score(data_test.drop(target, axis=1),\n",
    "                                           data_test[target]))"
   ]
  },
  {
   "cell_type": "code",
   "execution_count": null,
   "metadata": {},
   "outputs": [],
   "source": [
    "plt.figure(figsize=(12, 8))\n",
    "plt.plot(np.arange(1, 50), score_test, label='test')\n",
    "plt.plot(np.arange(1, 50), score_train, label='train')\n",
    "plt.legend()\n",
    "plt.show()"
   ]
  },
  {
   "cell_type": "code",
   "execution_count": null,
   "metadata": {},
   "outputs": [],
   "source": [
    "score_test = list()\n",
    "score_train = list()\n",
    "\n",
    "for i in np.arange(1, 50, 1):\n",
    "    random_forest.set_params(**{'regressor__regressor__n_estimators': i,\n",
    "                                'regressor__regressor__random_state': 100})\n",
    "    random_forest.fit(data_train.drop(target, axis=1), data_train[target])\n",
    "    score_train.append(random_forest.score(data_train.drop(target, axis=1),\n",
    "                                           data_train[target]))\n",
    "    score_test.append(random_forest.score(data_test.drop(target, axis=1),\n",
    "                                          data_test[target]))"
   ]
  },
  {
   "cell_type": "code",
   "execution_count": null,
   "metadata": {},
   "outputs": [],
   "source": [
    "plt.figure(figsize=(12, 8))\n",
    "plt.plot(np.arange(1, 50, 1), score_test, label='test')\n",
    "plt.plot(np.arange(1, 50, 1), score_train, label='train')\n",
    "plt.legend()\n",
    "plt.show()"
   ]
  },
  {
   "cell_type": "code",
   "execution_count": null,
   "metadata": {},
   "outputs": [],
   "source": [
    "random_forest.named_steps['regressor'].regressor_.get_params()"
   ]
  },
  {
   "cell_type": "code",
   "execution_count": null,
   "metadata": {},
   "outputs": [],
   "source": []
  }
 ],
 "metadata": {
  "kernelspec": {
   "display_name": "seattle_energy",
   "language": "python",
   "name": "seattle_energy"
  },
  "language_info": {
   "codemirror_mode": {
    "name": "ipython",
    "version": 3
   },
   "file_extension": ".py",
   "mimetype": "text/x-python",
   "name": "python",
   "nbconvert_exporter": "python",
   "pygments_lexer": "ipython3",
   "version": "3.6.9"
  }
 },
 "nbformat": 4,
 "nbformat_minor": 4
}
