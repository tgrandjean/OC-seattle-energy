{
 "cells": [
  {
   "cell_type": "code",
   "execution_count": null,
   "metadata": {},
   "outputs": [],
   "source": [
    "import matplotlib.pyplot as plt\n",
    "import pandas as pd\n",
    "import seaborn as sns\n",
    "\n",
    "from src.models.train_model import ModelTrainer\n",
    "from src.features.data_processing import ProcessingPipeline\n",
    "\n",
    "sns.set()"
   ]
  },
  {
   "cell_type": "code",
   "execution_count": null,
   "metadata": {},
   "outputs": [],
   "source": [
    "data = pd.read_pickle('../data/interim/full_data.pickle')"
   ]
  },
  {
   "cell_type": "code",
   "execution_count": null,
   "metadata": {},
   "outputs": [],
   "source": [
    "model_inputs = ['BuildingType',\n",
    "                'Neighborhood',\n",
    "                'LargestPropertyUseType',\n",
    "                'LargestPropertyUseTypeGFA',\n",
    "                'SecondLargestPropertyUseType',\n",
    "                'SecondLargestPropertyUseTypeGFA',\n",
    "                'NumberofFloors',\n",
    "                'ENERGYSTARScore']\n",
    "\n",
    "model_target = ['TotalGHGEmissions']"
   ]
  },
  {
   "cell_type": "code",
   "execution_count": null,
   "metadata": {},
   "outputs": [],
   "source": [
    "train_data = data.loc[2015]\n",
    "test_data = data.loc[2016]"
   ]
  },
  {
   "cell_type": "code",
   "execution_count": null,
   "metadata": {},
   "outputs": [],
   "source": [
    "trainer = ModelTrainer(train_data,\n",
    "                       model_inputs=model_inputs,\n",
    "                       model_target=model_target)"
   ]
  },
  {
   "cell_type": "code",
   "execution_count": null,
   "metadata": {},
   "outputs": [],
   "source": [
    "trainer.train_models()"
   ]
  },
  {
   "cell_type": "code",
   "execution_count": null,
   "metadata": {},
   "outputs": [],
   "source": [
    "p = ProcessingPipeline(test_data, input_=model_inputs, target=model_target)\n",
    "X_test, y_test = p.X, p.y"
   ]
  },
  {
   "cell_type": "code",
   "execution_count": null,
   "metadata": {},
   "outputs": [],
   "source": [
    "m = trainer.get_best_model(X_test, y_test)"
   ]
  },
  {
   "cell_type": "code",
   "execution_count": null,
   "metadata": {},
   "outputs": [],
   "source": [
    "y_true = trainer.processing_data.scalers[model_target[0]].inverse_transform(y_test)"
   ]
  },
  {
   "cell_type": "code",
   "execution_count": null,
   "metadata": {},
   "outputs": [],
   "source": [
    "y_pred = trainer.processing_data.scalers[model_target[0]].inverse_transform(m.predict(X_test))"
   ]
  },
  {
   "cell_type": "code",
   "execution_count": null,
   "metadata": {},
   "outputs": [],
   "source": [
    "y_pred"
   ]
  },
  {
   "cell_type": "code",
   "execution_count": null,
   "metadata": {},
   "outputs": [],
   "source": [
    "y_true"
   ]
  },
  {
   "cell_type": "code",
   "execution_count": null,
   "metadata": {},
   "outputs": [],
   "source": [
    "fig, ax = plt.subplots(1, figsize=(12, 8))\n",
    "ax.scatter(y_pred, y_pred)\n",
    "ax.set_xlabel('y_true')\n",
    "ax.set_ylabel('y_predict')\n",
    "plt.title('perfect fit (ideal model)')\n",
    "plt.show()"
   ]
  },
  {
   "cell_type": "code",
   "execution_count": null,
   "metadata": {},
   "outputs": [],
   "source": [
    "for model in trainer.trained_models:\n",
    "    print('=' * 80)\n",
    "    len_s = len(repr(model))\n",
    "    print(\" \" * ((80 - len_s) // 2) + repr(model))\n",
    "    print('=' * 80)\n",
    "    y_true = trainer.processing_data.scalers[model_target[0]]\\\n",
    "    .inverse_transform(y_test)\n",
    "    y_pred = trainer.processing_data.scalers[model_target[0]]\\\n",
    "    .inverse_transform(model.predict(X_test))\n",
    "    fig, ax = plt.subplots(1, figsize=(12, 8))\n",
    "    ax.scatter(y_true, y_pred)\n",
    "    ax.set_xlabel('y_true')\n",
    "    ax.set_ylabel('y_predict')\n",
    "    plt.title('Compare ground truth with prediction (test_data)')\n",
    "    plt.show()\n",
    "    y_pred = trainer.processing_data.scalers[model_target[0]]\\\n",
    "    .inverse_transform(model.predict(trainer.processing_data.X))\n",
    "    y_true = trainer.processing_data.scalers[model_target[0]]\\\n",
    "    .inverse_transform(trainer.processing_data.y)\n",
    "    fig, ax = plt.subplots(1, figsize=(12, 8))\n",
    "    ax.scatter(y_true, y_pred)\n",
    "    ax.set_xlabel('y_true')\n",
    "    ax.set_ylabel('y_predict')\n",
    "    plt.title('Compare ground truth with prediction (train_data)')\n",
    "    plt.show()"
   ]
  },
  {
   "cell_type": "code",
   "execution_count": null,
   "metadata": {},
   "outputs": [],
   "source": [
    "print(repr(m))\n",
    "m.plot_coeff_as_function()"
   ]
  }
 ],
 "metadata": {
  "kernelspec": {
   "display_name": "seattle_energy",
   "language": "python",
   "name": "seattle_energy"
  },
  "language_info": {
   "codemirror_mode": {
    "name": "ipython",
    "version": 3
   },
   "file_extension": ".py",
   "mimetype": "text/x-python",
   "name": "python",
   "nbconvert_exporter": "python",
   "pygments_lexer": "ipython3",
   "version": "3.6.9"
  }
 },
 "nbformat": 4,
 "nbformat_minor": 4
}
