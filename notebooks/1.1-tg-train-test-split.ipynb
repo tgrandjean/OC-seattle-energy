{
 "cells": [
  {
   "cell_type": "markdown",
   "metadata": {},
   "source": [
    "Anticipez les besoins en consommation électrique de bâtiments\n",
    "=============================================================\n",
    "\n",
    "![logo-seattle](https://www.seattle.gov/Documents/Departments/Arts/Downloads/Logo/Seattle_logo_landscape_blue-black.png)\n",
    "\n",
    "\n",
    "Explication des variables:\n",
    "[City of seattle](https://data.seattle.gov/dataset/2015-Building-Energy-Benchmarking/h7rm-fz6m)"
   ]
  },
  {
   "cell_type": "markdown",
   "metadata": {},
   "source": [
    "# Train/test split\n",
    "\n",
    "motivation: les données doivent être séparées en un jeux d'entrainement et un jeu de test. Cependant, il faut veiller à ce que les données de test soit représentatives des données d'entrainement."
   ]
  },
  {
   "cell_type": "code",
   "execution_count": null,
   "metadata": {},
   "outputs": [],
   "source": [
    "import matplotlib.pyplot as plt\n",
    "import pandas as pd\n",
    "import seaborn as sns\n",
    "\n",
    "from sklearn.model_selection import StratifiedShuffleSplit, train_test_split\n",
    "\n",
    "sns.set()"
   ]
  },
  {
   "cell_type": "code",
   "execution_count": null,
   "metadata": {},
   "outputs": [],
   "source": [
    "data = pd.read_pickle('../data/interim/full_data.pickle')"
   ]
  },
  {
   "cell_type": "code",
   "execution_count": null,
   "metadata": {},
   "outputs": [],
   "source": [
    "data.head()"
   ]
  },
  {
   "cell_type": "code",
   "execution_count": null,
   "metadata": {},
   "outputs": [],
   "source": [
    "def distribution(data_train, data_test, var):\n",
    "    \"\"\"Check if the distribution in train are the same as the test set\"\"\"\n",
    "    fig, axes = plt.subplots(1,2, figsize=(14, 10), sharey=True)\n",
    "    if data_train[var].dtype.name == 'category':\n",
    "        sns.countplot(y=var, data=data_train, ax=axes[0])\n",
    "        sns.countplot(y=var, data=data_test, ax=axes[1])\n",
    "    elif data_train[var].dtype.name in ['float64', 'int64']:\n",
    "        sns.distplot(data_train[var], ax=axes[0])\n",
    "        sns.distplot(data_test[var], ax=axes[1])\n",
    "    else:\n",
    "        pass\n",
    "    axes[0].set_title(\"Train data\")\n",
    "    axes[1].set_title(\"Test data\")\n",
    "    plt.subplots_adjust(wspace=0.01)\n",
    "    plt.show()"
   ]
  },
  {
   "cell_type": "code",
   "execution_count": null,
   "metadata": {},
   "outputs": [],
   "source": [
    "buildings_ids = data.OSEBuildingID.drop_duplicates()"
   ]
  },
  {
   "cell_type": "code",
   "execution_count": null,
   "metadata": {},
   "outputs": [],
   "source": [
    "buildings_ids.shape"
   ]
  },
  {
   "cell_type": "code",
   "execution_count": null,
   "metadata": {},
   "outputs": [],
   "source": [
    "train, test = train_test_split(buildings_ids)"
   ]
  },
  {
   "cell_type": "code",
   "execution_count": null,
   "metadata": {},
   "outputs": [],
   "source": [
    "data_train = data.loc[train.index]\n",
    "data_test = data.loc[test.index]"
   ]
  },
  {
   "cell_type": "code",
   "execution_count": null,
   "metadata": {},
   "outputs": [],
   "source": [
    "for col in ['BuildingType', 'PrimaryPropertyType',\n",
    "            'LargestPropertyUseType', \n",
    "            'LargestPropertyUseTypeGFA',\n",
    "            \"SecondLargestPropertyUseType\",\n",
    "            \"SecondLargestPropertyUseTypeGFA\",\n",
    "            'ThirdLargestPropertyUseType', \n",
    "            \"ThirdLargestPropertyUseTypeGFA\",\n",
    "            \"SiteEnergyUseWN_kBtu\"\n",
    "           ]:\n",
    "    distribution(data_train, data_test, col)"
   ]
  },
  {
   "cell_type": "code",
   "execution_count": null,
   "metadata": {},
   "outputs": [],
   "source": [
    "data_train = data.loc[2016][data.loc[2016, 'OSEBuildingID'].isin(data.loc[2015, 'OSEBuildingID'])]"
   ]
  },
  {
   "cell_type": "code",
   "execution_count": null,
   "metadata": {},
   "outputs": [],
   "source": [
    "data_train.shape"
   ]
  },
  {
   "cell_type": "code",
   "execution_count": null,
   "metadata": {},
   "outputs": [],
   "source": [
    "data_test = data.loc[2016][~data.loc[2016, 'OSEBuildingID'].isin(data.loc[2015, 'OSEBuildingID'])]"
   ]
  },
  {
   "cell_type": "code",
   "execution_count": null,
   "metadata": {},
   "outputs": [],
   "source": [
    "data_test.shape"
   ]
  },
  {
   "cell_type": "code",
   "execution_count": null,
   "metadata": {},
   "outputs": [],
   "source": [
    "for col in ['BuildingType', 'PrimaryPropertyType',\n",
    "            'LargestPropertyUseType', \n",
    "            'LargestPropertyUseTypeGFA',\n",
    "            \"SecondLargestPropertyUseType\",\n",
    "            \"SecondLargestPropertyUseTypeGFA\",\n",
    "            'ThirdLargestPropertyUseType', \n",
    "            \"ThirdLargestPropertyUseTypeGFA\",\n",
    "            \"SiteEnergyUseWN_kBtu\"\n",
    "           ]:\n",
    "    distribution(data_train, data_test, col)"
   ]
  }
 ],
 "metadata": {
  "kernelspec": {
   "display_name": "seattle_energy",
   "language": "python",
   "name": "seattle_energy"
  },
  "language_info": {
   "codemirror_mode": {
    "name": "ipython",
    "version": 3
   },
   "file_extension": ".py",
   "mimetype": "text/x-python",
   "name": "python",
   "nbconvert_exporter": "python",
   "pygments_lexer": "ipython3",
   "version": "3.7.4"
  }
 },
 "nbformat": 4,
 "nbformat_minor": 2
}
